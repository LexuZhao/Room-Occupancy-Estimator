{
  "cells": [
    {
      "cell_type": "markdown",
      "metadata": {
        "id": "xKj2a7kCAj7P"
      },
      "source": [
        "#"
      ]
    },
    {
      "cell_type": "markdown",
      "source": [
        "# Optimizing Room Occupancy Detection using Random Forests"
      ],
      "metadata": {
        "id": "En4-HNJCQVv9"
      }
    },
    {
      "cell_type": "markdown",
      "metadata": {
        "id": "Hzo1H0SbAj7S"
      },
      "source": [
        "# Names\n",
        "\n",
        "- Duy Vu\n",
        "- Lexu (Gavin) Zhao\n",
        "- Tianyi Bian\n",
        "- Tunan Li"
      ]
    },
    {
      "cell_type": "markdown",
      "metadata": {
        "id": "4VJWhLUPAj7T"
      },
      "source": [
        "# Abstract \n",
        "\n",
        "Our goal is to design and execute a machine-learning model that estimates room occupancy based on temperature, light, sound, CO2, and digital passive infrared (PIR) data. We will use data provided by UCI, which consists of 10,129 instances and 16 attributes.  To generate an accurate model predicting room occupancy, we used Random Forest and referenced published data as our performance benchmark. We start with feature transformation, to have more features available for training, then with the goal of constructing an efficient model, we tried to minimize the number of features used for prediction by using a careful feature selection. Girdsearch cross-validation was also performed to improve our prediction accuracy. By executing this project, we successfully construct a model that accurately estimates room occupancy, which can be used to optimize energy consumption and improve building management. The result suggests that our optimized model, compared to both the reference literature as well as the initial model we constructed, not only takes in fewer features but also has better performance. The experience gained in this project demonstrates the crucial importance of fine-tuning models as well as feature selection. The model construction process also provides us with more insight into which sensor is most useful in occupancy estimation.\n",
        "\n",
        "\n"
      ]
    },
    {
      "cell_type": "markdown",
      "metadata": {
        "id": "adO9qeBpAj7U"
      },
      "source": [
        "# Background\n",
        "\n",
        "In recent years, there has been a growing interest in developing smart and energy-efficient buildings. One important aspect of building management is the efficient use of resources, including energy consumption. Occupancy-based control is a popular strategy for optimizing energy usage in buildings. By accurately estimating the number of occupants in a room, building managers can adjust heating, cooling, and lighting systems to meet the occupants' needs while minimizing energy waste. The building might also sent out automatic warnings to facilitate security guards when it detects occupents after closing time. \n",
        "Research on occupancy-based control using machine learning has been active in recent years. Many studies have proposed and evaluated various models and algorithms for predicting occupancy based on sensor data. For instance, the study conducted by Wang et al. (2019) <a name=\"cite1\" href=\"https://www.sciencedirect.com/science/article/pii/S0926580518302656\"><sup>[1]</sup></a> used SVM and Random Forest models to estimate occupancy based on temperature and humidity sensor data. The study carried out a 30-day experiment in a library and utilized data mining techniques to model occupancy patterns. As a result, the heating, ventilation, and air conditioning (HVAC) systems were able to achieve better performance. \n",
        "\n",
        "Another research is from Adarsh et al. (2020)<a name=\"cite2\" href=\"https://web2py.iiit.ac.in/research_centres/publications/view_publication/mastersthesis/872\"><sup>[2]</sup></a> that studies the sensor data analytics and data reduction techniques. The research discussed occupancy estimation using ML, analysis of ML algorithms from the perspective of constrained microcontrollers, and ML-based data transmission reduction for occupancy applications. Additionally, occupancy estimation is a key task in building automation, energy efficiency, and security. Previous research has proposed various approaches to estimate occupancy levels, including the use of multivariate sensor nodes and machine learning algorithms (Singh et al., 2018)<a name=\"cite2\" href=\"https://web.archive.org/web/20200310233053id_/https://ntnuopen.ntnu.no/ntnu-xmlui/bitstream/handle/11250/2624923/globecomm-2019.pdf?sequence=1\"><sup>[3]</sup></a>. In this project, we build upon this previous work by developing a machine learning model to predict room occupancy levels in a specific context."
      ]
    },
    {
      "cell_type": "markdown",
      "metadata": {
        "id": "AkcHrNk-Aj7V"
      },
      "source": [
        "# Problem Statement\n",
        "\n",
        "This project aims to develop a machine-learning model that accurately estimates and predicts the number of people in a room using a dataset collected at different times throughout 4 days from various types of sensors, including those that detect temperature, light, sound, CO2, and PIR, respectively. It’s contributional in solving the task of monitoring room occupancy in real-time. To achieve this goal, our machine learning algorithm, based on the methods of Random Forest, will be trained and tested using a large dataset of sensor measurements collected from real-world scenarios."
      ]
    },
    {
      "cell_type": "markdown",
      "metadata": {
        "id": "GAs1i6mJAj7V"
      },
      "source": [
        "Significance: \n",
        "\n",
        "The development of a machine learning project to predict room occupancy could have significant implications for predicting and preventing burglary in private households. By analyzing factors such as temperature, sound, and time, the model could help to identify anomalies in household occupancy patterns and alert homeowners to potential security threats. This could be especially useful for people who travel frequently or have second homes that are left unoccupied for extended periods of time. \n",
        "\n",
        "Addditionally, The development of a machine learning model to predict room occupancy has significant implications for future public usage, such as in a public library. With accurate and timely predictions of the number of people in a given space predicted the machine learning model, library staff can optimize their resources, ensuring that there are enough staff members to meet the needs of patrons, and minimizing costs at the same time. The model could also be used to improve the overall user experience under the context of library rooms. By analyzing factors such as temperature and sound, the model can provide insights into the comfort level of library spaces, which can effectively help staff to make adjustments to optimize the user experience. The development of this model could pave the way for future innovations in public area management and resource allocation. As machine learning and other artificial intelligence technologies continue to advance, public places will have more tools at their disposal to improve their operations and services.\n",
        "\n",
        "Overall, even though our model has a disadvantage due to the limited results it could produce (a room with less than 4 people), the significance of this project lies in its potential to improve the efficiency, effectiveness, and overall user experience of public spaces such as library rooms and the security of the private household."
      ]
    },
    {
      "cell_type": "markdown",
      "metadata": {
        "id": "Ea5qXN1uAj7W"
      },
      "source": [
        "# Data\n",
        "\n",
        "Room Occupancy Estimation Data Set: \n",
        "- Link: https://archive.ics.uci.edu/ml/datasets/Room+Occupancy+Estimation\n",
        "- Reference: Data collected by Adarsh Pal Singh (IIIT Hyderabad, India), Dr. Sachin Chaudhari (IIIT Hyderabad, India)\n",
        "- Size of the dataset: 16 variables, 10130 observations\n",
        "- An observation consists with the specified time during the period of 4 days and the readout values from five different types of non-intrusive sensors that measure temperature (4 sensors), light (4 sensors), sound (4 sensors), CO2 (2 sensors) and digital passive infrared (2 sensors). The ground-truth value of a number of occupancies is also included. The variables listed below are considered to be critical, and they are represented in terms of numerical values with units labeled: temperature in degrees Celsius, light in Lux, sound in Volts (read by ADC devices), and Carbon Dioxide in PPM.\n",
        "- Since each type of sensor includes multiple devices, we need to combine those numerous read-out data into a specific output value by weighted averaging, and clean up the outliers or null cells from the table due to the potential noises that are not related to the targeted room.\n"
      ]
    },
    {
      "cell_type": "markdown",
      "metadata": {
        "id": "Nsbx1am3Aj7W"
      },
      "source": [
        "We believe in order to clean the null cells, it may be a good idea to check what kind of null cells are they. In other words, we would like to perform a permutation test on the missing cell to check what kind of missingness are. If the missing is MCAR, missing completely at random, we will perform the imputation using the mean/median values instead of just filling in with 0. For example, if there is a null value in the sound column, then we impute the mean/median value of the entire column to keep the general distribution.\n",
        "To combine the datasets, we will use pd.concat or pd.merge, and we believe that the order does not matter. We contact all the columns to a big dataframe and evaluate from this dataframe. In general, we will have columns for data from 4 temperature sensors, 4 light sensors, 4 sound sensors, 2 CO2 sensors, and 2 digital passive sensors, where the rows are the individual data provided by these sensors.\n"
      ]
    },
    {
      "cell_type": "code",
      "execution_count": null,
      "metadata": {
        "id": "V8zF60h-CS5D"
      },
      "outputs": [],
      "source": [
        "import numpy as np"
      ]
    },
    {
      "cell_type": "code",
      "execution_count": null,
      "metadata": {
        "colab": {
          "base_uri": "https://localhost:8080/",
          "height": 488
        },
        "id": "5PS2jBdKAj7X",
        "outputId": "b7550666-b0bd-4d1e-9378-04278effa31e"
      },
      "outputs": [
        {
          "output_type": "execute_result",
          "data": {
            "text/plain": [
              "             Date      Time  S1_Temp  S2_Temp  S3_Temp  S4_Temp  S1_Light  \\\n",
              "0      2017/12/22  10:49:41    24.94    24.75    24.56    25.38       121   \n",
              "1      2017/12/22  10:50:12    24.94    24.75    24.56    25.44       121   \n",
              "2      2017/12/22  10:50:42    25.00    24.75    24.50    25.44       121   \n",
              "3      2017/12/22  10:51:13    25.00    24.75    24.56    25.44       121   \n",
              "4      2017/12/22  10:51:44    25.00    24.75    24.56    25.44       121   \n",
              "...           ...       ...      ...      ...      ...      ...       ...   \n",
              "10124  2018/01/11  08:58:07    25.06    25.13    24.69    25.31         6   \n",
              "10125  2018/01/11  08:58:37    25.06    25.06    24.69    25.25         6   \n",
              "10126  2018/01/11  08:59:08    25.13    25.06    24.69    25.25         6   \n",
              "10127  2018/01/11  08:59:39    25.13    25.06    24.69    25.25         6   \n",
              "10128  2018/01/11  09:00:09    25.13    25.06    24.69    25.25         6   \n",
              "\n",
              "       S2_Light  S3_Light  S4_Light  S1_Sound  S2_Sound  S3_Sound  S4_Sound  \\\n",
              "0            34        53        40      0.08      0.19      0.06      0.06   \n",
              "1            33        53        40      0.93      0.05      0.06      0.06   \n",
              "2            34        53        40      0.43      0.11      0.08      0.06   \n",
              "3            34        53        40      0.41      0.10      0.10      0.09   \n",
              "4            34        54        40      0.18      0.06      0.06      0.06   \n",
              "...         ...       ...       ...       ...       ...       ...       ...   \n",
              "10124         7        33        22      0.09      0.04      0.06      0.08   \n",
              "10125         7        34        22      0.07      0.05      0.05      0.08   \n",
              "10126         7        34        22      0.11      0.05      0.06      0.08   \n",
              "10127         7        34        22      0.08      0.08      0.10      0.08   \n",
              "10128         7        34        22      0.08      0.05      0.06      0.08   \n",
              "\n",
              "       S5_CO2  S5_CO2_Slope  S6_PIR  S7_PIR  Room_Occupancy_Count  \n",
              "0         390      0.769231       0       0                     1  \n",
              "1         390      0.646154       0       0                     1  \n",
              "2         390      0.519231       0       0                     1  \n",
              "3         390      0.388462       0       0                     1  \n",
              "4         390      0.253846       0       0                     1  \n",
              "...       ...           ...     ...     ...                   ...  \n",
              "10124     345      0.000000       0       0                     0  \n",
              "10125     345      0.000000       0       0                     0  \n",
              "10126     345      0.000000       0       0                     0  \n",
              "10127     345      0.000000       0       0                     0  \n",
              "10128     345      0.000000       0       0                     0  \n",
              "\n",
              "[10129 rows x 19 columns]"
            ],
            "text/html": [
              "\n",
              "  <div id=\"df-3a351e59-8e00-40bb-adc6-e2ea6e13e970\">\n",
              "    <div class=\"colab-df-container\">\n",
              "      <div>\n",
              "<style scoped>\n",
              "    .dataframe tbody tr th:only-of-type {\n",
              "        vertical-align: middle;\n",
              "    }\n",
              "\n",
              "    .dataframe tbody tr th {\n",
              "        vertical-align: top;\n",
              "    }\n",
              "\n",
              "    .dataframe thead th {\n",
              "        text-align: right;\n",
              "    }\n",
              "</style>\n",
              "<table border=\"1\" class=\"dataframe\">\n",
              "  <thead>\n",
              "    <tr style=\"text-align: right;\">\n",
              "      <th></th>\n",
              "      <th>Date</th>\n",
              "      <th>Time</th>\n",
              "      <th>S1_Temp</th>\n",
              "      <th>S2_Temp</th>\n",
              "      <th>S3_Temp</th>\n",
              "      <th>S4_Temp</th>\n",
              "      <th>S1_Light</th>\n",
              "      <th>S2_Light</th>\n",
              "      <th>S3_Light</th>\n",
              "      <th>S4_Light</th>\n",
              "      <th>S1_Sound</th>\n",
              "      <th>S2_Sound</th>\n",
              "      <th>S3_Sound</th>\n",
              "      <th>S4_Sound</th>\n",
              "      <th>S5_CO2</th>\n",
              "      <th>S5_CO2_Slope</th>\n",
              "      <th>S6_PIR</th>\n",
              "      <th>S7_PIR</th>\n",
              "      <th>Room_Occupancy_Count</th>\n",
              "    </tr>\n",
              "  </thead>\n",
              "  <tbody>\n",
              "    <tr>\n",
              "      <th>0</th>\n",
              "      <td>2017/12/22</td>\n",
              "      <td>10:49:41</td>\n",
              "      <td>24.94</td>\n",
              "      <td>24.75</td>\n",
              "      <td>24.56</td>\n",
              "      <td>25.38</td>\n",
              "      <td>121</td>\n",
              "      <td>34</td>\n",
              "      <td>53</td>\n",
              "      <td>40</td>\n",
              "      <td>0.08</td>\n",
              "      <td>0.19</td>\n",
              "      <td>0.06</td>\n",
              "      <td>0.06</td>\n",
              "      <td>390</td>\n",
              "      <td>0.769231</td>\n",
              "      <td>0</td>\n",
              "      <td>0</td>\n",
              "      <td>1</td>\n",
              "    </tr>\n",
              "    <tr>\n",
              "      <th>1</th>\n",
              "      <td>2017/12/22</td>\n",
              "      <td>10:50:12</td>\n",
              "      <td>24.94</td>\n",
              "      <td>24.75</td>\n",
              "      <td>24.56</td>\n",
              "      <td>25.44</td>\n",
              "      <td>121</td>\n",
              "      <td>33</td>\n",
              "      <td>53</td>\n",
              "      <td>40</td>\n",
              "      <td>0.93</td>\n",
              "      <td>0.05</td>\n",
              "      <td>0.06</td>\n",
              "      <td>0.06</td>\n",
              "      <td>390</td>\n",
              "      <td>0.646154</td>\n",
              "      <td>0</td>\n",
              "      <td>0</td>\n",
              "      <td>1</td>\n",
              "    </tr>\n",
              "    <tr>\n",
              "      <th>2</th>\n",
              "      <td>2017/12/22</td>\n",
              "      <td>10:50:42</td>\n",
              "      <td>25.00</td>\n",
              "      <td>24.75</td>\n",
              "      <td>24.50</td>\n",
              "      <td>25.44</td>\n",
              "      <td>121</td>\n",
              "      <td>34</td>\n",
              "      <td>53</td>\n",
              "      <td>40</td>\n",
              "      <td>0.43</td>\n",
              "      <td>0.11</td>\n",
              "      <td>0.08</td>\n",
              "      <td>0.06</td>\n",
              "      <td>390</td>\n",
              "      <td>0.519231</td>\n",
              "      <td>0</td>\n",
              "      <td>0</td>\n",
              "      <td>1</td>\n",
              "    </tr>\n",
              "    <tr>\n",
              "      <th>3</th>\n",
              "      <td>2017/12/22</td>\n",
              "      <td>10:51:13</td>\n",
              "      <td>25.00</td>\n",
              "      <td>24.75</td>\n",
              "      <td>24.56</td>\n",
              "      <td>25.44</td>\n",
              "      <td>121</td>\n",
              "      <td>34</td>\n",
              "      <td>53</td>\n",
              "      <td>40</td>\n",
              "      <td>0.41</td>\n",
              "      <td>0.10</td>\n",
              "      <td>0.10</td>\n",
              "      <td>0.09</td>\n",
              "      <td>390</td>\n",
              "      <td>0.388462</td>\n",
              "      <td>0</td>\n",
              "      <td>0</td>\n",
              "      <td>1</td>\n",
              "    </tr>\n",
              "    <tr>\n",
              "      <th>4</th>\n",
              "      <td>2017/12/22</td>\n",
              "      <td>10:51:44</td>\n",
              "      <td>25.00</td>\n",
              "      <td>24.75</td>\n",
              "      <td>24.56</td>\n",
              "      <td>25.44</td>\n",
              "      <td>121</td>\n",
              "      <td>34</td>\n",
              "      <td>54</td>\n",
              "      <td>40</td>\n",
              "      <td>0.18</td>\n",
              "      <td>0.06</td>\n",
              "      <td>0.06</td>\n",
              "      <td>0.06</td>\n",
              "      <td>390</td>\n",
              "      <td>0.253846</td>\n",
              "      <td>0</td>\n",
              "      <td>0</td>\n",
              "      <td>1</td>\n",
              "    </tr>\n",
              "    <tr>\n",
              "      <th>...</th>\n",
              "      <td>...</td>\n",
              "      <td>...</td>\n",
              "      <td>...</td>\n",
              "      <td>...</td>\n",
              "      <td>...</td>\n",
              "      <td>...</td>\n",
              "      <td>...</td>\n",
              "      <td>...</td>\n",
              "      <td>...</td>\n",
              "      <td>...</td>\n",
              "      <td>...</td>\n",
              "      <td>...</td>\n",
              "      <td>...</td>\n",
              "      <td>...</td>\n",
              "      <td>...</td>\n",
              "      <td>...</td>\n",
              "      <td>...</td>\n",
              "      <td>...</td>\n",
              "      <td>...</td>\n",
              "    </tr>\n",
              "    <tr>\n",
              "      <th>10124</th>\n",
              "      <td>2018/01/11</td>\n",
              "      <td>08:58:07</td>\n",
              "      <td>25.06</td>\n",
              "      <td>25.13</td>\n",
              "      <td>24.69</td>\n",
              "      <td>25.31</td>\n",
              "      <td>6</td>\n",
              "      <td>7</td>\n",
              "      <td>33</td>\n",
              "      <td>22</td>\n",
              "      <td>0.09</td>\n",
              "      <td>0.04</td>\n",
              "      <td>0.06</td>\n",
              "      <td>0.08</td>\n",
              "      <td>345</td>\n",
              "      <td>0.000000</td>\n",
              "      <td>0</td>\n",
              "      <td>0</td>\n",
              "      <td>0</td>\n",
              "    </tr>\n",
              "    <tr>\n",
              "      <th>10125</th>\n",
              "      <td>2018/01/11</td>\n",
              "      <td>08:58:37</td>\n",
              "      <td>25.06</td>\n",
              "      <td>25.06</td>\n",
              "      <td>24.69</td>\n",
              "      <td>25.25</td>\n",
              "      <td>6</td>\n",
              "      <td>7</td>\n",
              "      <td>34</td>\n",
              "      <td>22</td>\n",
              "      <td>0.07</td>\n",
              "      <td>0.05</td>\n",
              "      <td>0.05</td>\n",
              "      <td>0.08</td>\n",
              "      <td>345</td>\n",
              "      <td>0.000000</td>\n",
              "      <td>0</td>\n",
              "      <td>0</td>\n",
              "      <td>0</td>\n",
              "    </tr>\n",
              "    <tr>\n",
              "      <th>10126</th>\n",
              "      <td>2018/01/11</td>\n",
              "      <td>08:59:08</td>\n",
              "      <td>25.13</td>\n",
              "      <td>25.06</td>\n",
              "      <td>24.69</td>\n",
              "      <td>25.25</td>\n",
              "      <td>6</td>\n",
              "      <td>7</td>\n",
              "      <td>34</td>\n",
              "      <td>22</td>\n",
              "      <td>0.11</td>\n",
              "      <td>0.05</td>\n",
              "      <td>0.06</td>\n",
              "      <td>0.08</td>\n",
              "      <td>345</td>\n",
              "      <td>0.000000</td>\n",
              "      <td>0</td>\n",
              "      <td>0</td>\n",
              "      <td>0</td>\n",
              "    </tr>\n",
              "    <tr>\n",
              "      <th>10127</th>\n",
              "      <td>2018/01/11</td>\n",
              "      <td>08:59:39</td>\n",
              "      <td>25.13</td>\n",
              "      <td>25.06</td>\n",
              "      <td>24.69</td>\n",
              "      <td>25.25</td>\n",
              "      <td>6</td>\n",
              "      <td>7</td>\n",
              "      <td>34</td>\n",
              "      <td>22</td>\n",
              "      <td>0.08</td>\n",
              "      <td>0.08</td>\n",
              "      <td>0.10</td>\n",
              "      <td>0.08</td>\n",
              "      <td>345</td>\n",
              "      <td>0.000000</td>\n",
              "      <td>0</td>\n",
              "      <td>0</td>\n",
              "      <td>0</td>\n",
              "    </tr>\n",
              "    <tr>\n",
              "      <th>10128</th>\n",
              "      <td>2018/01/11</td>\n",
              "      <td>09:00:09</td>\n",
              "      <td>25.13</td>\n",
              "      <td>25.06</td>\n",
              "      <td>24.69</td>\n",
              "      <td>25.25</td>\n",
              "      <td>6</td>\n",
              "      <td>7</td>\n",
              "      <td>34</td>\n",
              "      <td>22</td>\n",
              "      <td>0.08</td>\n",
              "      <td>0.05</td>\n",
              "      <td>0.06</td>\n",
              "      <td>0.08</td>\n",
              "      <td>345</td>\n",
              "      <td>0.000000</td>\n",
              "      <td>0</td>\n",
              "      <td>0</td>\n",
              "      <td>0</td>\n",
              "    </tr>\n",
              "  </tbody>\n",
              "</table>\n",
              "<p>10129 rows × 19 columns</p>\n",
              "</div>\n",
              "      <button class=\"colab-df-convert\" onclick=\"convertToInteractive('df-3a351e59-8e00-40bb-adc6-e2ea6e13e970')\"\n",
              "              title=\"Convert this dataframe to an interactive table.\"\n",
              "              style=\"display:none;\">\n",
              "        \n",
              "  <svg xmlns=\"http://www.w3.org/2000/svg\" height=\"24px\"viewBox=\"0 0 24 24\"\n",
              "       width=\"24px\">\n",
              "    <path d=\"M0 0h24v24H0V0z\" fill=\"none\"/>\n",
              "    <path d=\"M18.56 5.44l.94 2.06.94-2.06 2.06-.94-2.06-.94-.94-2.06-.94 2.06-2.06.94zm-11 1L8.5 8.5l.94-2.06 2.06-.94-2.06-.94L8.5 2.5l-.94 2.06-2.06.94zm10 10l.94 2.06.94-2.06 2.06-.94-2.06-.94-.94-2.06-.94 2.06-2.06.94z\"/><path d=\"M17.41 7.96l-1.37-1.37c-.4-.4-.92-.59-1.43-.59-.52 0-1.04.2-1.43.59L10.3 9.45l-7.72 7.72c-.78.78-.78 2.05 0 2.83L4 21.41c.39.39.9.59 1.41.59.51 0 1.02-.2 1.41-.59l7.78-7.78 2.81-2.81c.8-.78.8-2.07 0-2.86zM5.41 20L4 18.59l7.72-7.72 1.47 1.35L5.41 20z\"/>\n",
              "  </svg>\n",
              "      </button>\n",
              "      \n",
              "  <style>\n",
              "    .colab-df-container {\n",
              "      display:flex;\n",
              "      flex-wrap:wrap;\n",
              "      gap: 12px;\n",
              "    }\n",
              "\n",
              "    .colab-df-convert {\n",
              "      background-color: #E8F0FE;\n",
              "      border: none;\n",
              "      border-radius: 50%;\n",
              "      cursor: pointer;\n",
              "      display: none;\n",
              "      fill: #1967D2;\n",
              "      height: 32px;\n",
              "      padding: 0 0 0 0;\n",
              "      width: 32px;\n",
              "    }\n",
              "\n",
              "    .colab-df-convert:hover {\n",
              "      background-color: #E2EBFA;\n",
              "      box-shadow: 0px 1px 2px rgba(60, 64, 67, 0.3), 0px 1px 3px 1px rgba(60, 64, 67, 0.15);\n",
              "      fill: #174EA6;\n",
              "    }\n",
              "\n",
              "    [theme=dark] .colab-df-convert {\n",
              "      background-color: #3B4455;\n",
              "      fill: #D2E3FC;\n",
              "    }\n",
              "\n",
              "    [theme=dark] .colab-df-convert:hover {\n",
              "      background-color: #434B5C;\n",
              "      box-shadow: 0px 1px 3px 1px rgba(0, 0, 0, 0.15);\n",
              "      filter: drop-shadow(0px 1px 2px rgba(0, 0, 0, 0.3));\n",
              "      fill: #FFFFFF;\n",
              "    }\n",
              "  </style>\n",
              "\n",
              "      <script>\n",
              "        const buttonEl =\n",
              "          document.querySelector('#df-3a351e59-8e00-40bb-adc6-e2ea6e13e970 button.colab-df-convert');\n",
              "        buttonEl.style.display =\n",
              "          google.colab.kernel.accessAllowed ? 'block' : 'none';\n",
              "\n",
              "        async function convertToInteractive(key) {\n",
              "          const element = document.querySelector('#df-3a351e59-8e00-40bb-adc6-e2ea6e13e970');\n",
              "          const dataTable =\n",
              "            await google.colab.kernel.invokeFunction('convertToInteractive',\n",
              "                                                     [key], {});\n",
              "          if (!dataTable) return;\n",
              "\n",
              "          const docLinkHtml = 'Like what you see? Visit the ' +\n",
              "            '<a target=\"_blank\" href=https://colab.research.google.com/notebooks/data_table.ipynb>data table notebook</a>'\n",
              "            + ' to learn more about interactive tables.';\n",
              "          element.innerHTML = '';\n",
              "          dataTable['output_type'] = 'display_data';\n",
              "          await google.colab.output.renderOutput(dataTable, element);\n",
              "          const docLink = document.createElement('div');\n",
              "          docLink.innerHTML = docLinkHtml;\n",
              "          element.appendChild(docLink);\n",
              "        }\n",
              "      </script>\n",
              "    </div>\n",
              "  </div>\n",
              "  "
            ]
          },
          "metadata": {},
          "execution_count": 2
        }
      ],
      "source": [
        "import pandas as pd\n",
        "df = pd.read_csv(r\"Occupancy_Estimation.csv\")\n",
        "df"
      ]
    },
    {
      "cell_type": "markdown",
      "metadata": {
        "id": "FsaZs3XeAj7Y"
      },
      "source": [
        "Checking whether there are any empty columns. We will process if the data looks clean."
      ]
    },
    {
      "cell_type": "code",
      "execution_count": null,
      "metadata": {
        "id": "PjK7nyk7Aj7Z",
        "colab": {
          "base_uri": "https://localhost:8080/"
        },
        "outputId": "8d5283c6-5da2-40ba-c514-edc6bbcb7eb6"
      },
      "outputs": [
        {
          "output_type": "execute_result",
          "data": {
            "text/plain": [
              "Date                    0\n",
              "Time                    0\n",
              "S1_Temp                 0\n",
              "S2_Temp                 0\n",
              "S3_Temp                 0\n",
              "S4_Temp                 0\n",
              "S1_Light                0\n",
              "S2_Light                0\n",
              "S3_Light                0\n",
              "S4_Light                0\n",
              "S1_Sound                0\n",
              "S2_Sound                0\n",
              "S3_Sound                0\n",
              "S4_Sound                0\n",
              "S5_CO2                  0\n",
              "S5_CO2_Slope            0\n",
              "S6_PIR                  0\n",
              "S7_PIR                  0\n",
              "Room_Occupancy_Count    0\n",
              "dtype: int64"
            ]
          },
          "metadata": {},
          "execution_count": 3
        }
      ],
      "source": [
        "data=pd.read_csv(r\"Occupancy_Estimation.csv\")\n",
        "# load data\n",
        "# data['Date'] = pd.to_datetime(data['Date'])\n",
        "# change string to date(maybenot)\n",
        "data.isna().sum()\n",
        "# checking if we have empty columns\n",
        "# looks clean so we will proceed"
      ]
    },
    {
      "cell_type": "markdown",
      "metadata": {
        "id": "F9ZZM0wFAj7a"
      },
      "source": [
        "# Proposed Solution\n",
        "\n",
        "A tentative solution to solve this problem is to adopt a Random Forest classification model. Random Forest works by combining multiple decision trees into a single model. Here are the steps involved in training a Random Forest model:\n",
        "\n",
        "1. Randomly select a subset of data from the dataset (with replacement).\n",
        "2. Build a decision tree on the subset of data using a random subset of features at each split.\n",
        "3. Repeat the above two steps multiple times to create a forest of decision trees.\n",
        "4. For classification problems, each decision tree in the forest predicts the class of the input data point, and the final output is determined by majority voting of all the trees in the forest.\n",
        "5. For regression problems, each decision tree in the forest predicts a numeric value, and the final output is determined by averaging the values predicted by all the trees in the forest.\n",
        "\n",
        "We know the exact parameters at each split and we can tell which variable contributes more to the final decision. This information is useful because, in real life, we don't want to have too many sensors in one room just for predicting how many people are in a room due to cost considerations. Finding which sensor contributes most to prediction can help us reduce the number of unnecessary sensors.More importantly, since we are interested in predicting the number of people in our room, we want our model to classify our data points into 4 different categories and generate 4 different labels representing the number of people in the room.(Room with 0 people, room with 1 person, room with 2 people, and room with 3 people).Therefore, using a Random Forest, capable of separating multiple classes and outputting multiple labels at one time, will be a good option. The nature of our dataset also suggests using a Random Forest.\n",
        "\n",
        "By inspecting our dataset, it looks like most of our variables are sensor measurements which are numerical and different measurements, such as light measurement and temperature measurement, seem to have quite different ranges and don’t seem like they are normalized previously. Therefore, by using Random Forest classification model, which is a nonparametric approach, we don’t need to worry about normalizations. The sklearn document suggests that the inbound sklearn class RandomForestClassifier utilizes the CART tree, which only supports numerical data. Therefore, as our measurements are numerical, we can easily implement a decision tree just using basic sklearn and we are almost guaranteed success on model creation. \n",
        "\n",
        "For the benchmark, we proposed using SVM and Random Forest that are used in (Singh et al., 2018)<a name=\"cite2\" href=\"https://web.archive.org/web/20200310233053id_/https://ntnuopen.ntnu.no/ntnu-xmlui/bitstream/handle/11250/2624923/globecomm-2019.pdf?sequence=1\"><sup>[3]</sup></a>. According to the paper, with the features including Temp{1,2,3,4}, CO2, Slope, Sound{1,2,3,4}, PIR{6,7}, Light{1,2,3,4}, the accuracy of SVM(RBF) and Random Forest are 0.984 and 0.978 respectively. By implementing the Random Forest algorithm, we want to figure out if it's worth spending extra time to train for the Random Forest by comparing the performance of two models."
      ]
    },
    {
      "cell_type": "markdown",
      "metadata": {
        "id": "MrRtdT4hAj7c"
      },
      "source": [
        "# Evaluation Metrics\n",
        "\n",
        "Because we are doing a data classification, which is a classification problem, then the most appropriate error metrics are related to how many classifications we made on the test data are right or not; in other words, we have to avoid misclassification as much as possible. As we will use logistic regression in our model to predict the probability of data containing 0,1,2,3 people in total. We are going to use the recall: which is the true positive rate, which is the P(detect positive | true positive), and this equals to P(detect positive and true positive)/P(true positive), and we want this probability as closer to one as possible for a good model. Another error metric we use is the specificity, which calculates the probability of having correct negative labels. Mathematically,  P(detect negative | true negative), which is equivalent to P(detect negative and true negative)/P(true negative).\n",
        "\n",
        "We want to maximize the presicion since we care a lot if a person detected positive is positive. But in our case, we don’t have special weight on either side of the positive/negative, this is why we care about the both true posibve rate and true negative rate equally. We will use these metrics into either One vs One or One vs Rest to validate if our model is solid.\n",
        "\n",
        "A good model is where it has both low occurrences of Type I and Type II error, which are false positives and false negatives. If the model has higher recall and specificity, this means the model is accurate. We may also take into account of F-score, and we want a higher F-score as possible."
      ]
    },
    {
      "cell_type": "markdown",
      "source": [
        "# Results\n"
      ],
      "metadata": {
        "id": "DmNy9GYhUfVa"
      }
    },
    {
      "cell_type": "markdown",
      "source": [
        "### Data Transformation\n",
        "\n",
        "In the initial exploratory data analysis (EDA) of the Room Occupancy Estimation dataset, we included the date and time as features for the machine learning algorithm predicting room occupancy. We initially believed that time could have a high correlation with other features, such as temperature which might help us improve our prediction accuracy. The temperature might help to capture seasonal or periodic patterns, and it might have a high correlation with other features, such as temperature, considering the fact that temperature varies at different times of the day. Therefore, we transformed the time data into continuous variables in terms of seconds and minutes, so that we can identify more nuanced patterns than we simply included as discrete values in the original table. Additionally, we also transformed the date data into categorical variables using one-hot encoding. This helps us to capture any potential patterns in occupancy related to time and date. We hoped that these transformations would help to extract more valuable information from these variables and improve the accuracy of our occupancy predictions.\n",
        "\n"
      ],
      "metadata": {
        "id": "oagMElUMUiee"
      }
    },
    {
      "cell_type": "markdown",
      "metadata": {
        "id": "eRXeE97xAj7Z"
      },
      "source": [
        "Applying One-Hot encoding to the date variable"
      ]
    },
    {
      "cell_type": "code",
      "execution_count": null,
      "metadata": {
        "colab": {
          "base_uri": "https://localhost:8080/",
          "height": 488
        },
        "id": "AsVov4UMAj7Z",
        "outputId": "8f77344a-cea0-44ae-e63d-80cda0d12e86"
      },
      "outputs": [
        {
          "output_type": "execute_result",
          "data": {
            "text/plain": [
              "             Date      Time  S1_Temp  S2_Temp  S3_Temp  S4_Temp  S1_Light  \\\n",
              "0      2017/12/22  10:49:41    24.94    24.75    24.56    25.38       121   \n",
              "1      2017/12/22  10:50:12    24.94    24.75    24.56    25.44       121   \n",
              "2      2017/12/22  10:50:42    25.00    24.75    24.50    25.44       121   \n",
              "3      2017/12/22  10:51:13    25.00    24.75    24.56    25.44       121   \n",
              "4      2017/12/22  10:51:44    25.00    24.75    24.56    25.44       121   \n",
              "...           ...       ...      ...      ...      ...      ...       ...   \n",
              "10124  2018/01/11  08:58:07    25.06    25.13    24.69    25.31         6   \n",
              "10125  2018/01/11  08:58:37    25.06    25.06    24.69    25.25         6   \n",
              "10126  2018/01/11  08:59:08    25.13    25.06    24.69    25.25         6   \n",
              "10127  2018/01/11  08:59:39    25.13    25.06    24.69    25.25         6   \n",
              "10128  2018/01/11  09:00:09    25.13    25.06    24.69    25.25         6   \n",
              "\n",
              "       S2_Light  S3_Light  S4_Light  ...  S6_PIR  S7_PIR  \\\n",
              "0            34        53        40  ...       0       0   \n",
              "1            33        53        40  ...       0       0   \n",
              "2            34        53        40  ...       0       0   \n",
              "3            34        53        40  ...       0       0   \n",
              "4            34        54        40  ...       0       0   \n",
              "...         ...       ...       ...  ...     ...     ...   \n",
              "10124         7        33        22  ...       0       0   \n",
              "10125         7        34        22  ...       0       0   \n",
              "10126         7        34        22  ...       0       0   \n",
              "10127         7        34        22  ...       0       0   \n",
              "10128         7        34        22  ...       0       0   \n",
              "\n",
              "       Room_Occupancy_Count  one_hot_2017/12/22  one_hot_2017/12/23  \\\n",
              "0                         1                   1                   0   \n",
              "1                         1                   1                   0   \n",
              "2                         1                   1                   0   \n",
              "3                         1                   1                   0   \n",
              "4                         1                   1                   0   \n",
              "...                     ...                 ...                 ...   \n",
              "10124                     0                   0                   0   \n",
              "10125                     0                   0                   0   \n",
              "10126                     0                   0                   0   \n",
              "10127                     0                   0                   0   \n",
              "10128                     0                   0                   0   \n",
              "\n",
              "       one_hot_2017/12/24  one_hot_2017/12/25  one_hot_2017/12/26  \\\n",
              "0                       0                   0                   0   \n",
              "1                       0                   0                   0   \n",
              "2                       0                   0                   0   \n",
              "3                       0                   0                   0   \n",
              "4                       0                   0                   0   \n",
              "...                   ...                 ...                 ...   \n",
              "10124                   0                   0                   0   \n",
              "10125                   0                   0                   0   \n",
              "10126                   0                   0                   0   \n",
              "10127                   0                   0                   0   \n",
              "10128                   0                   0                   0   \n",
              "\n",
              "       one_hot_2018/01/10  one_hot_2018/01/11  \n",
              "0                       0                   0  \n",
              "1                       0                   0  \n",
              "2                       0                   0  \n",
              "3                       0                   0  \n",
              "4                       0                   0  \n",
              "...                   ...                 ...  \n",
              "10124                   0                   1  \n",
              "10125                   0                   1  \n",
              "10126                   0                   1  \n",
              "10127                   0                   1  \n",
              "10128                   0                   1  \n",
              "\n",
              "[10129 rows x 26 columns]"
            ],
            "text/html": [
              "\n",
              "  <div id=\"df-623b52ca-31a7-4a13-9435-53d14077c55f\">\n",
              "    <div class=\"colab-df-container\">\n",
              "      <div>\n",
              "<style scoped>\n",
              "    .dataframe tbody tr th:only-of-type {\n",
              "        vertical-align: middle;\n",
              "    }\n",
              "\n",
              "    .dataframe tbody tr th {\n",
              "        vertical-align: top;\n",
              "    }\n",
              "\n",
              "    .dataframe thead th {\n",
              "        text-align: right;\n",
              "    }\n",
              "</style>\n",
              "<table border=\"1\" class=\"dataframe\">\n",
              "  <thead>\n",
              "    <tr style=\"text-align: right;\">\n",
              "      <th></th>\n",
              "      <th>Date</th>\n",
              "      <th>Time</th>\n",
              "      <th>S1_Temp</th>\n",
              "      <th>S2_Temp</th>\n",
              "      <th>S3_Temp</th>\n",
              "      <th>S4_Temp</th>\n",
              "      <th>S1_Light</th>\n",
              "      <th>S2_Light</th>\n",
              "      <th>S3_Light</th>\n",
              "      <th>S4_Light</th>\n",
              "      <th>...</th>\n",
              "      <th>S6_PIR</th>\n",
              "      <th>S7_PIR</th>\n",
              "      <th>Room_Occupancy_Count</th>\n",
              "      <th>one_hot_2017/12/22</th>\n",
              "      <th>one_hot_2017/12/23</th>\n",
              "      <th>one_hot_2017/12/24</th>\n",
              "      <th>one_hot_2017/12/25</th>\n",
              "      <th>one_hot_2017/12/26</th>\n",
              "      <th>one_hot_2018/01/10</th>\n",
              "      <th>one_hot_2018/01/11</th>\n",
              "    </tr>\n",
              "  </thead>\n",
              "  <tbody>\n",
              "    <tr>\n",
              "      <th>0</th>\n",
              "      <td>2017/12/22</td>\n",
              "      <td>10:49:41</td>\n",
              "      <td>24.94</td>\n",
              "      <td>24.75</td>\n",
              "      <td>24.56</td>\n",
              "      <td>25.38</td>\n",
              "      <td>121</td>\n",
              "      <td>34</td>\n",
              "      <td>53</td>\n",
              "      <td>40</td>\n",
              "      <td>...</td>\n",
              "      <td>0</td>\n",
              "      <td>0</td>\n",
              "      <td>1</td>\n",
              "      <td>1</td>\n",
              "      <td>0</td>\n",
              "      <td>0</td>\n",
              "      <td>0</td>\n",
              "      <td>0</td>\n",
              "      <td>0</td>\n",
              "      <td>0</td>\n",
              "    </tr>\n",
              "    <tr>\n",
              "      <th>1</th>\n",
              "      <td>2017/12/22</td>\n",
              "      <td>10:50:12</td>\n",
              "      <td>24.94</td>\n",
              "      <td>24.75</td>\n",
              "      <td>24.56</td>\n",
              "      <td>25.44</td>\n",
              "      <td>121</td>\n",
              "      <td>33</td>\n",
              "      <td>53</td>\n",
              "      <td>40</td>\n",
              "      <td>...</td>\n",
              "      <td>0</td>\n",
              "      <td>0</td>\n",
              "      <td>1</td>\n",
              "      <td>1</td>\n",
              "      <td>0</td>\n",
              "      <td>0</td>\n",
              "      <td>0</td>\n",
              "      <td>0</td>\n",
              "      <td>0</td>\n",
              "      <td>0</td>\n",
              "    </tr>\n",
              "    <tr>\n",
              "      <th>2</th>\n",
              "      <td>2017/12/22</td>\n",
              "      <td>10:50:42</td>\n",
              "      <td>25.00</td>\n",
              "      <td>24.75</td>\n",
              "      <td>24.50</td>\n",
              "      <td>25.44</td>\n",
              "      <td>121</td>\n",
              "      <td>34</td>\n",
              "      <td>53</td>\n",
              "      <td>40</td>\n",
              "      <td>...</td>\n",
              "      <td>0</td>\n",
              "      <td>0</td>\n",
              "      <td>1</td>\n",
              "      <td>1</td>\n",
              "      <td>0</td>\n",
              "      <td>0</td>\n",
              "      <td>0</td>\n",
              "      <td>0</td>\n",
              "      <td>0</td>\n",
              "      <td>0</td>\n",
              "    </tr>\n",
              "    <tr>\n",
              "      <th>3</th>\n",
              "      <td>2017/12/22</td>\n",
              "      <td>10:51:13</td>\n",
              "      <td>25.00</td>\n",
              "      <td>24.75</td>\n",
              "      <td>24.56</td>\n",
              "      <td>25.44</td>\n",
              "      <td>121</td>\n",
              "      <td>34</td>\n",
              "      <td>53</td>\n",
              "      <td>40</td>\n",
              "      <td>...</td>\n",
              "      <td>0</td>\n",
              "      <td>0</td>\n",
              "      <td>1</td>\n",
              "      <td>1</td>\n",
              "      <td>0</td>\n",
              "      <td>0</td>\n",
              "      <td>0</td>\n",
              "      <td>0</td>\n",
              "      <td>0</td>\n",
              "      <td>0</td>\n",
              "    </tr>\n",
              "    <tr>\n",
              "      <th>4</th>\n",
              "      <td>2017/12/22</td>\n",
              "      <td>10:51:44</td>\n",
              "      <td>25.00</td>\n",
              "      <td>24.75</td>\n",
              "      <td>24.56</td>\n",
              "      <td>25.44</td>\n",
              "      <td>121</td>\n",
              "      <td>34</td>\n",
              "      <td>54</td>\n",
              "      <td>40</td>\n",
              "      <td>...</td>\n",
              "      <td>0</td>\n",
              "      <td>0</td>\n",
              "      <td>1</td>\n",
              "      <td>1</td>\n",
              "      <td>0</td>\n",
              "      <td>0</td>\n",
              "      <td>0</td>\n",
              "      <td>0</td>\n",
              "      <td>0</td>\n",
              "      <td>0</td>\n",
              "    </tr>\n",
              "    <tr>\n",
              "      <th>...</th>\n",
              "      <td>...</td>\n",
              "      <td>...</td>\n",
              "      <td>...</td>\n",
              "      <td>...</td>\n",
              "      <td>...</td>\n",
              "      <td>...</td>\n",
              "      <td>...</td>\n",
              "      <td>...</td>\n",
              "      <td>...</td>\n",
              "      <td>...</td>\n",
              "      <td>...</td>\n",
              "      <td>...</td>\n",
              "      <td>...</td>\n",
              "      <td>...</td>\n",
              "      <td>...</td>\n",
              "      <td>...</td>\n",
              "      <td>...</td>\n",
              "      <td>...</td>\n",
              "      <td>...</td>\n",
              "      <td>...</td>\n",
              "      <td>...</td>\n",
              "    </tr>\n",
              "    <tr>\n",
              "      <th>10124</th>\n",
              "      <td>2018/01/11</td>\n",
              "      <td>08:58:07</td>\n",
              "      <td>25.06</td>\n",
              "      <td>25.13</td>\n",
              "      <td>24.69</td>\n",
              "      <td>25.31</td>\n",
              "      <td>6</td>\n",
              "      <td>7</td>\n",
              "      <td>33</td>\n",
              "      <td>22</td>\n",
              "      <td>...</td>\n",
              "      <td>0</td>\n",
              "      <td>0</td>\n",
              "      <td>0</td>\n",
              "      <td>0</td>\n",
              "      <td>0</td>\n",
              "      <td>0</td>\n",
              "      <td>0</td>\n",
              "      <td>0</td>\n",
              "      <td>0</td>\n",
              "      <td>1</td>\n",
              "    </tr>\n",
              "    <tr>\n",
              "      <th>10125</th>\n",
              "      <td>2018/01/11</td>\n",
              "      <td>08:58:37</td>\n",
              "      <td>25.06</td>\n",
              "      <td>25.06</td>\n",
              "      <td>24.69</td>\n",
              "      <td>25.25</td>\n",
              "      <td>6</td>\n",
              "      <td>7</td>\n",
              "      <td>34</td>\n",
              "      <td>22</td>\n",
              "      <td>...</td>\n",
              "      <td>0</td>\n",
              "      <td>0</td>\n",
              "      <td>0</td>\n",
              "      <td>0</td>\n",
              "      <td>0</td>\n",
              "      <td>0</td>\n",
              "      <td>0</td>\n",
              "      <td>0</td>\n",
              "      <td>0</td>\n",
              "      <td>1</td>\n",
              "    </tr>\n",
              "    <tr>\n",
              "      <th>10126</th>\n",
              "      <td>2018/01/11</td>\n",
              "      <td>08:59:08</td>\n",
              "      <td>25.13</td>\n",
              "      <td>25.06</td>\n",
              "      <td>24.69</td>\n",
              "      <td>25.25</td>\n",
              "      <td>6</td>\n",
              "      <td>7</td>\n",
              "      <td>34</td>\n",
              "      <td>22</td>\n",
              "      <td>...</td>\n",
              "      <td>0</td>\n",
              "      <td>0</td>\n",
              "      <td>0</td>\n",
              "      <td>0</td>\n",
              "      <td>0</td>\n",
              "      <td>0</td>\n",
              "      <td>0</td>\n",
              "      <td>0</td>\n",
              "      <td>0</td>\n",
              "      <td>1</td>\n",
              "    </tr>\n",
              "    <tr>\n",
              "      <th>10127</th>\n",
              "      <td>2018/01/11</td>\n",
              "      <td>08:59:39</td>\n",
              "      <td>25.13</td>\n",
              "      <td>25.06</td>\n",
              "      <td>24.69</td>\n",
              "      <td>25.25</td>\n",
              "      <td>6</td>\n",
              "      <td>7</td>\n",
              "      <td>34</td>\n",
              "      <td>22</td>\n",
              "      <td>...</td>\n",
              "      <td>0</td>\n",
              "      <td>0</td>\n",
              "      <td>0</td>\n",
              "      <td>0</td>\n",
              "      <td>0</td>\n",
              "      <td>0</td>\n",
              "      <td>0</td>\n",
              "      <td>0</td>\n",
              "      <td>0</td>\n",
              "      <td>1</td>\n",
              "    </tr>\n",
              "    <tr>\n",
              "      <th>10128</th>\n",
              "      <td>2018/01/11</td>\n",
              "      <td>09:00:09</td>\n",
              "      <td>25.13</td>\n",
              "      <td>25.06</td>\n",
              "      <td>24.69</td>\n",
              "      <td>25.25</td>\n",
              "      <td>6</td>\n",
              "      <td>7</td>\n",
              "      <td>34</td>\n",
              "      <td>22</td>\n",
              "      <td>...</td>\n",
              "      <td>0</td>\n",
              "      <td>0</td>\n",
              "      <td>0</td>\n",
              "      <td>0</td>\n",
              "      <td>0</td>\n",
              "      <td>0</td>\n",
              "      <td>0</td>\n",
              "      <td>0</td>\n",
              "      <td>0</td>\n",
              "      <td>1</td>\n",
              "    </tr>\n",
              "  </tbody>\n",
              "</table>\n",
              "<p>10129 rows × 26 columns</p>\n",
              "</div>\n",
              "      <button class=\"colab-df-convert\" onclick=\"convertToInteractive('df-623b52ca-31a7-4a13-9435-53d14077c55f')\"\n",
              "              title=\"Convert this dataframe to an interactive table.\"\n",
              "              style=\"display:none;\">\n",
              "        \n",
              "  <svg xmlns=\"http://www.w3.org/2000/svg\" height=\"24px\"viewBox=\"0 0 24 24\"\n",
              "       width=\"24px\">\n",
              "    <path d=\"M0 0h24v24H0V0z\" fill=\"none\"/>\n",
              "    <path d=\"M18.56 5.44l.94 2.06.94-2.06 2.06-.94-2.06-.94-.94-2.06-.94 2.06-2.06.94zm-11 1L8.5 8.5l.94-2.06 2.06-.94-2.06-.94L8.5 2.5l-.94 2.06-2.06.94zm10 10l.94 2.06.94-2.06 2.06-.94-2.06-.94-.94-2.06-.94 2.06-2.06.94z\"/><path d=\"M17.41 7.96l-1.37-1.37c-.4-.4-.92-.59-1.43-.59-.52 0-1.04.2-1.43.59L10.3 9.45l-7.72 7.72c-.78.78-.78 2.05 0 2.83L4 21.41c.39.39.9.59 1.41.59.51 0 1.02-.2 1.41-.59l7.78-7.78 2.81-2.81c.8-.78.8-2.07 0-2.86zM5.41 20L4 18.59l7.72-7.72 1.47 1.35L5.41 20z\"/>\n",
              "  </svg>\n",
              "      </button>\n",
              "      \n",
              "  <style>\n",
              "    .colab-df-container {\n",
              "      display:flex;\n",
              "      flex-wrap:wrap;\n",
              "      gap: 12px;\n",
              "    }\n",
              "\n",
              "    .colab-df-convert {\n",
              "      background-color: #E8F0FE;\n",
              "      border: none;\n",
              "      border-radius: 50%;\n",
              "      cursor: pointer;\n",
              "      display: none;\n",
              "      fill: #1967D2;\n",
              "      height: 32px;\n",
              "      padding: 0 0 0 0;\n",
              "      width: 32px;\n",
              "    }\n",
              "\n",
              "    .colab-df-convert:hover {\n",
              "      background-color: #E2EBFA;\n",
              "      box-shadow: 0px 1px 2px rgba(60, 64, 67, 0.3), 0px 1px 3px 1px rgba(60, 64, 67, 0.15);\n",
              "      fill: #174EA6;\n",
              "    }\n",
              "\n",
              "    [theme=dark] .colab-df-convert {\n",
              "      background-color: #3B4455;\n",
              "      fill: #D2E3FC;\n",
              "    }\n",
              "\n",
              "    [theme=dark] .colab-df-convert:hover {\n",
              "      background-color: #434B5C;\n",
              "      box-shadow: 0px 1px 3px 1px rgba(0, 0, 0, 0.15);\n",
              "      filter: drop-shadow(0px 1px 2px rgba(0, 0, 0, 0.3));\n",
              "      fill: #FFFFFF;\n",
              "    }\n",
              "  </style>\n",
              "\n",
              "      <script>\n",
              "        const buttonEl =\n",
              "          document.querySelector('#df-623b52ca-31a7-4a13-9435-53d14077c55f button.colab-df-convert');\n",
              "        buttonEl.style.display =\n",
              "          google.colab.kernel.accessAllowed ? 'block' : 'none';\n",
              "\n",
              "        async function convertToInteractive(key) {\n",
              "          const element = document.querySelector('#df-623b52ca-31a7-4a13-9435-53d14077c55f');\n",
              "          const dataTable =\n",
              "            await google.colab.kernel.invokeFunction('convertToInteractive',\n",
              "                                                     [key], {});\n",
              "          if (!dataTable) return;\n",
              "\n",
              "          const docLinkHtml = 'Like what you see? Visit the ' +\n",
              "            '<a target=\"_blank\" href=https://colab.research.google.com/notebooks/data_table.ipynb>data table notebook</a>'\n",
              "            + ' to learn more about interactive tables.';\n",
              "          element.innerHTML = '';\n",
              "          dataTable['output_type'] = 'display_data';\n",
              "          await google.colab.output.renderOutput(dataTable, element);\n",
              "          const docLink = document.createElement('div');\n",
              "          docLink.innerHTML = docLinkHtml;\n",
              "          element.appendChild(docLink);\n",
              "        }\n",
              "      </script>\n",
              "    </div>\n",
              "  </div>\n",
              "  "
            ]
          },
          "metadata": {},
          "execution_count": 51
        }
      ],
      "source": [
        "# one hot encoding date variable\n",
        "\n",
        "unique = data['Date'].unique()\n",
        "\n",
        "(data['Date'] == unique[0]).astype(int)\n",
        "\n",
        "for i in unique:\n",
        "    data[f'one_hot_{i}']= (data['Date'] == i).astype(int)\n",
        "    \n",
        "set(data[\"Room_Occupancy_Count\"])\n",
        "data"
      ]
    },
    {
      "cell_type": "markdown",
      "source": [
        "Converting time to continuous variables"
      ],
      "metadata": {
        "id": "ME45cbLhVq8c"
      }
    },
    {
      "cell_type": "code",
      "source": [
        "import pandas as pd\n",
        "\n",
        "def time_to_seconds(t):\n",
        "    h, m, s = map(int, t.split(':'))\n",
        "    return 3600*h + 60*m + s\n",
        "\n",
        "data['Time_in_seconds'] = data['Time'].apply(time_to_seconds)\n",
        "last_col = data.iloc[:, -1]\n",
        "# insert the last column at the second position\n",
        "data.insert(1, 'Time in Second', last_col)\n",
        "data = data.drop(columns='Time_in_seconds')\n",
        "\n",
        "def time_to_minutes(t):\n",
        "    h, m, s = map(int, t.split(':'))\n",
        "    return 60*h + m\n",
        "\n",
        "data['Time_in_minutes'] = data['Time'].apply(time_to_minutes)\n",
        "\n",
        "last_col = data.iloc[:, -1]\n",
        "# insert the last column at the second position\n",
        "data.insert(1, 'Time in Minutes', last_col)\n",
        "data = data.drop(columns='Time_in_minutes')"
      ],
      "metadata": {
        "id": "pW4wGikiJ9_3"
      },
      "execution_count": null,
      "outputs": []
    },
    {
      "cell_type": "code",
      "source": [
        "data"
      ],
      "metadata": {
        "id": "2VePptV5QCdX",
        "colab": {
          "base_uri": "https://localhost:8080/",
          "height": 522
        },
        "outputId": "6967549a-29a4-4bb2-a66c-d6ed4d50286d"
      },
      "execution_count": null,
      "outputs": [
        {
          "output_type": "execute_result",
          "data": {
            "text/plain": [
              "             Date  Time in Minutes  Time in Second      Time  S1_Temp  \\\n",
              "0      2017/12/22              649           38981  10:49:41    24.94   \n",
              "1      2017/12/22              650           39012  10:50:12    24.94   \n",
              "2      2017/12/22              650           39042  10:50:42    25.00   \n",
              "3      2017/12/22              651           39073  10:51:13    25.00   \n",
              "4      2017/12/22              651           39104  10:51:44    25.00   \n",
              "...           ...              ...             ...       ...      ...   \n",
              "10124  2018/01/11              538           32287  08:58:07    25.06   \n",
              "10125  2018/01/11              538           32317  08:58:37    25.06   \n",
              "10126  2018/01/11              539           32348  08:59:08    25.13   \n",
              "10127  2018/01/11              539           32379  08:59:39    25.13   \n",
              "10128  2018/01/11              540           32409  09:00:09    25.13   \n",
              "\n",
              "       S2_Temp  S3_Temp  S4_Temp  S1_Light  S2_Light  ...  S6_PIR  S7_PIR  \\\n",
              "0        24.75    24.56    25.38       121        34  ...       0       0   \n",
              "1        24.75    24.56    25.44       121        33  ...       0       0   \n",
              "2        24.75    24.50    25.44       121        34  ...       0       0   \n",
              "3        24.75    24.56    25.44       121        34  ...       0       0   \n",
              "4        24.75    24.56    25.44       121        34  ...       0       0   \n",
              "...        ...      ...      ...       ...       ...  ...     ...     ...   \n",
              "10124    25.13    24.69    25.31         6         7  ...       0       0   \n",
              "10125    25.06    24.69    25.25         6         7  ...       0       0   \n",
              "10126    25.06    24.69    25.25         6         7  ...       0       0   \n",
              "10127    25.06    24.69    25.25         6         7  ...       0       0   \n",
              "10128    25.06    24.69    25.25         6         7  ...       0       0   \n",
              "\n",
              "       Room_Occupancy_Count  one_hot_2017/12/22  one_hot_2017/12/23  \\\n",
              "0                         1                   1                   0   \n",
              "1                         1                   1                   0   \n",
              "2                         1                   1                   0   \n",
              "3                         1                   1                   0   \n",
              "4                         1                   1                   0   \n",
              "...                     ...                 ...                 ...   \n",
              "10124                     0                   0                   0   \n",
              "10125                     0                   0                   0   \n",
              "10126                     0                   0                   0   \n",
              "10127                     0                   0                   0   \n",
              "10128                     0                   0                   0   \n",
              "\n",
              "       one_hot_2017/12/24  one_hot_2017/12/25  one_hot_2017/12/26  \\\n",
              "0                       0                   0                   0   \n",
              "1                       0                   0                   0   \n",
              "2                       0                   0                   0   \n",
              "3                       0                   0                   0   \n",
              "4                       0                   0                   0   \n",
              "...                   ...                 ...                 ...   \n",
              "10124                   0                   0                   0   \n",
              "10125                   0                   0                   0   \n",
              "10126                   0                   0                   0   \n",
              "10127                   0                   0                   0   \n",
              "10128                   0                   0                   0   \n",
              "\n",
              "       one_hot_2018/01/10  one_hot_2018/01/11  \n",
              "0                       0                   0  \n",
              "1                       0                   0  \n",
              "2                       0                   0  \n",
              "3                       0                   0  \n",
              "4                       0                   0  \n",
              "...                   ...                 ...  \n",
              "10124                   0                   1  \n",
              "10125                   0                   1  \n",
              "10126                   0                   1  \n",
              "10127                   0                   1  \n",
              "10128                   0                   1  \n",
              "\n",
              "[10129 rows x 28 columns]"
            ],
            "text/html": [
              "\n",
              "  <div id=\"df-ee6d5c3f-8ed9-4244-8d69-31b7e31a0658\">\n",
              "    <div class=\"colab-df-container\">\n",
              "      <div>\n",
              "<style scoped>\n",
              "    .dataframe tbody tr th:only-of-type {\n",
              "        vertical-align: middle;\n",
              "    }\n",
              "\n",
              "    .dataframe tbody tr th {\n",
              "        vertical-align: top;\n",
              "    }\n",
              "\n",
              "    .dataframe thead th {\n",
              "        text-align: right;\n",
              "    }\n",
              "</style>\n",
              "<table border=\"1\" class=\"dataframe\">\n",
              "  <thead>\n",
              "    <tr style=\"text-align: right;\">\n",
              "      <th></th>\n",
              "      <th>Date</th>\n",
              "      <th>Time in Minutes</th>\n",
              "      <th>Time in Second</th>\n",
              "      <th>Time</th>\n",
              "      <th>S1_Temp</th>\n",
              "      <th>S2_Temp</th>\n",
              "      <th>S3_Temp</th>\n",
              "      <th>S4_Temp</th>\n",
              "      <th>S1_Light</th>\n",
              "      <th>S2_Light</th>\n",
              "      <th>...</th>\n",
              "      <th>S6_PIR</th>\n",
              "      <th>S7_PIR</th>\n",
              "      <th>Room_Occupancy_Count</th>\n",
              "      <th>one_hot_2017/12/22</th>\n",
              "      <th>one_hot_2017/12/23</th>\n",
              "      <th>one_hot_2017/12/24</th>\n",
              "      <th>one_hot_2017/12/25</th>\n",
              "      <th>one_hot_2017/12/26</th>\n",
              "      <th>one_hot_2018/01/10</th>\n",
              "      <th>one_hot_2018/01/11</th>\n",
              "    </tr>\n",
              "  </thead>\n",
              "  <tbody>\n",
              "    <tr>\n",
              "      <th>0</th>\n",
              "      <td>2017/12/22</td>\n",
              "      <td>649</td>\n",
              "      <td>38981</td>\n",
              "      <td>10:49:41</td>\n",
              "      <td>24.94</td>\n",
              "      <td>24.75</td>\n",
              "      <td>24.56</td>\n",
              "      <td>25.38</td>\n",
              "      <td>121</td>\n",
              "      <td>34</td>\n",
              "      <td>...</td>\n",
              "      <td>0</td>\n",
              "      <td>0</td>\n",
              "      <td>1</td>\n",
              "      <td>1</td>\n",
              "      <td>0</td>\n",
              "      <td>0</td>\n",
              "      <td>0</td>\n",
              "      <td>0</td>\n",
              "      <td>0</td>\n",
              "      <td>0</td>\n",
              "    </tr>\n",
              "    <tr>\n",
              "      <th>1</th>\n",
              "      <td>2017/12/22</td>\n",
              "      <td>650</td>\n",
              "      <td>39012</td>\n",
              "      <td>10:50:12</td>\n",
              "      <td>24.94</td>\n",
              "      <td>24.75</td>\n",
              "      <td>24.56</td>\n",
              "      <td>25.44</td>\n",
              "      <td>121</td>\n",
              "      <td>33</td>\n",
              "      <td>...</td>\n",
              "      <td>0</td>\n",
              "      <td>0</td>\n",
              "      <td>1</td>\n",
              "      <td>1</td>\n",
              "      <td>0</td>\n",
              "      <td>0</td>\n",
              "      <td>0</td>\n",
              "      <td>0</td>\n",
              "      <td>0</td>\n",
              "      <td>0</td>\n",
              "    </tr>\n",
              "    <tr>\n",
              "      <th>2</th>\n",
              "      <td>2017/12/22</td>\n",
              "      <td>650</td>\n",
              "      <td>39042</td>\n",
              "      <td>10:50:42</td>\n",
              "      <td>25.00</td>\n",
              "      <td>24.75</td>\n",
              "      <td>24.50</td>\n",
              "      <td>25.44</td>\n",
              "      <td>121</td>\n",
              "      <td>34</td>\n",
              "      <td>...</td>\n",
              "      <td>0</td>\n",
              "      <td>0</td>\n",
              "      <td>1</td>\n",
              "      <td>1</td>\n",
              "      <td>0</td>\n",
              "      <td>0</td>\n",
              "      <td>0</td>\n",
              "      <td>0</td>\n",
              "      <td>0</td>\n",
              "      <td>0</td>\n",
              "    </tr>\n",
              "    <tr>\n",
              "      <th>3</th>\n",
              "      <td>2017/12/22</td>\n",
              "      <td>651</td>\n",
              "      <td>39073</td>\n",
              "      <td>10:51:13</td>\n",
              "      <td>25.00</td>\n",
              "      <td>24.75</td>\n",
              "      <td>24.56</td>\n",
              "      <td>25.44</td>\n",
              "      <td>121</td>\n",
              "      <td>34</td>\n",
              "      <td>...</td>\n",
              "      <td>0</td>\n",
              "      <td>0</td>\n",
              "      <td>1</td>\n",
              "      <td>1</td>\n",
              "      <td>0</td>\n",
              "      <td>0</td>\n",
              "      <td>0</td>\n",
              "      <td>0</td>\n",
              "      <td>0</td>\n",
              "      <td>0</td>\n",
              "    </tr>\n",
              "    <tr>\n",
              "      <th>4</th>\n",
              "      <td>2017/12/22</td>\n",
              "      <td>651</td>\n",
              "      <td>39104</td>\n",
              "      <td>10:51:44</td>\n",
              "      <td>25.00</td>\n",
              "      <td>24.75</td>\n",
              "      <td>24.56</td>\n",
              "      <td>25.44</td>\n",
              "      <td>121</td>\n",
              "      <td>34</td>\n",
              "      <td>...</td>\n",
              "      <td>0</td>\n",
              "      <td>0</td>\n",
              "      <td>1</td>\n",
              "      <td>1</td>\n",
              "      <td>0</td>\n",
              "      <td>0</td>\n",
              "      <td>0</td>\n",
              "      <td>0</td>\n",
              "      <td>0</td>\n",
              "      <td>0</td>\n",
              "    </tr>\n",
              "    <tr>\n",
              "      <th>...</th>\n",
              "      <td>...</td>\n",
              "      <td>...</td>\n",
              "      <td>...</td>\n",
              "      <td>...</td>\n",
              "      <td>...</td>\n",
              "      <td>...</td>\n",
              "      <td>...</td>\n",
              "      <td>...</td>\n",
              "      <td>...</td>\n",
              "      <td>...</td>\n",
              "      <td>...</td>\n",
              "      <td>...</td>\n",
              "      <td>...</td>\n",
              "      <td>...</td>\n",
              "      <td>...</td>\n",
              "      <td>...</td>\n",
              "      <td>...</td>\n",
              "      <td>...</td>\n",
              "      <td>...</td>\n",
              "      <td>...</td>\n",
              "      <td>...</td>\n",
              "    </tr>\n",
              "    <tr>\n",
              "      <th>10124</th>\n",
              "      <td>2018/01/11</td>\n",
              "      <td>538</td>\n",
              "      <td>32287</td>\n",
              "      <td>08:58:07</td>\n",
              "      <td>25.06</td>\n",
              "      <td>25.13</td>\n",
              "      <td>24.69</td>\n",
              "      <td>25.31</td>\n",
              "      <td>6</td>\n",
              "      <td>7</td>\n",
              "      <td>...</td>\n",
              "      <td>0</td>\n",
              "      <td>0</td>\n",
              "      <td>0</td>\n",
              "      <td>0</td>\n",
              "      <td>0</td>\n",
              "      <td>0</td>\n",
              "      <td>0</td>\n",
              "      <td>0</td>\n",
              "      <td>0</td>\n",
              "      <td>1</td>\n",
              "    </tr>\n",
              "    <tr>\n",
              "      <th>10125</th>\n",
              "      <td>2018/01/11</td>\n",
              "      <td>538</td>\n",
              "      <td>32317</td>\n",
              "      <td>08:58:37</td>\n",
              "      <td>25.06</td>\n",
              "      <td>25.06</td>\n",
              "      <td>24.69</td>\n",
              "      <td>25.25</td>\n",
              "      <td>6</td>\n",
              "      <td>7</td>\n",
              "      <td>...</td>\n",
              "      <td>0</td>\n",
              "      <td>0</td>\n",
              "      <td>0</td>\n",
              "      <td>0</td>\n",
              "      <td>0</td>\n",
              "      <td>0</td>\n",
              "      <td>0</td>\n",
              "      <td>0</td>\n",
              "      <td>0</td>\n",
              "      <td>1</td>\n",
              "    </tr>\n",
              "    <tr>\n",
              "      <th>10126</th>\n",
              "      <td>2018/01/11</td>\n",
              "      <td>539</td>\n",
              "      <td>32348</td>\n",
              "      <td>08:59:08</td>\n",
              "      <td>25.13</td>\n",
              "      <td>25.06</td>\n",
              "      <td>24.69</td>\n",
              "      <td>25.25</td>\n",
              "      <td>6</td>\n",
              "      <td>7</td>\n",
              "      <td>...</td>\n",
              "      <td>0</td>\n",
              "      <td>0</td>\n",
              "      <td>0</td>\n",
              "      <td>0</td>\n",
              "      <td>0</td>\n",
              "      <td>0</td>\n",
              "      <td>0</td>\n",
              "      <td>0</td>\n",
              "      <td>0</td>\n",
              "      <td>1</td>\n",
              "    </tr>\n",
              "    <tr>\n",
              "      <th>10127</th>\n",
              "      <td>2018/01/11</td>\n",
              "      <td>539</td>\n",
              "      <td>32379</td>\n",
              "      <td>08:59:39</td>\n",
              "      <td>25.13</td>\n",
              "      <td>25.06</td>\n",
              "      <td>24.69</td>\n",
              "      <td>25.25</td>\n",
              "      <td>6</td>\n",
              "      <td>7</td>\n",
              "      <td>...</td>\n",
              "      <td>0</td>\n",
              "      <td>0</td>\n",
              "      <td>0</td>\n",
              "      <td>0</td>\n",
              "      <td>0</td>\n",
              "      <td>0</td>\n",
              "      <td>0</td>\n",
              "      <td>0</td>\n",
              "      <td>0</td>\n",
              "      <td>1</td>\n",
              "    </tr>\n",
              "    <tr>\n",
              "      <th>10128</th>\n",
              "      <td>2018/01/11</td>\n",
              "      <td>540</td>\n",
              "      <td>32409</td>\n",
              "      <td>09:00:09</td>\n",
              "      <td>25.13</td>\n",
              "      <td>25.06</td>\n",
              "      <td>24.69</td>\n",
              "      <td>25.25</td>\n",
              "      <td>6</td>\n",
              "      <td>7</td>\n",
              "      <td>...</td>\n",
              "      <td>0</td>\n",
              "      <td>0</td>\n",
              "      <td>0</td>\n",
              "      <td>0</td>\n",
              "      <td>0</td>\n",
              "      <td>0</td>\n",
              "      <td>0</td>\n",
              "      <td>0</td>\n",
              "      <td>0</td>\n",
              "      <td>1</td>\n",
              "    </tr>\n",
              "  </tbody>\n",
              "</table>\n",
              "<p>10129 rows × 28 columns</p>\n",
              "</div>\n",
              "      <button class=\"colab-df-convert\" onclick=\"convertToInteractive('df-ee6d5c3f-8ed9-4244-8d69-31b7e31a0658')\"\n",
              "              title=\"Convert this dataframe to an interactive table.\"\n",
              "              style=\"display:none;\">\n",
              "        \n",
              "  <svg xmlns=\"http://www.w3.org/2000/svg\" height=\"24px\"viewBox=\"0 0 24 24\"\n",
              "       width=\"24px\">\n",
              "    <path d=\"M0 0h24v24H0V0z\" fill=\"none\"/>\n",
              "    <path d=\"M18.56 5.44l.94 2.06.94-2.06 2.06-.94-2.06-.94-.94-2.06-.94 2.06-2.06.94zm-11 1L8.5 8.5l.94-2.06 2.06-.94-2.06-.94L8.5 2.5l-.94 2.06-2.06.94zm10 10l.94 2.06.94-2.06 2.06-.94-2.06-.94-.94-2.06-.94 2.06-2.06.94z\"/><path d=\"M17.41 7.96l-1.37-1.37c-.4-.4-.92-.59-1.43-.59-.52 0-1.04.2-1.43.59L10.3 9.45l-7.72 7.72c-.78.78-.78 2.05 0 2.83L4 21.41c.39.39.9.59 1.41.59.51 0 1.02-.2 1.41-.59l7.78-7.78 2.81-2.81c.8-.78.8-2.07 0-2.86zM5.41 20L4 18.59l7.72-7.72 1.47 1.35L5.41 20z\"/>\n",
              "  </svg>\n",
              "      </button>\n",
              "      \n",
              "  <style>\n",
              "    .colab-df-container {\n",
              "      display:flex;\n",
              "      flex-wrap:wrap;\n",
              "      gap: 12px;\n",
              "    }\n",
              "\n",
              "    .colab-df-convert {\n",
              "      background-color: #E8F0FE;\n",
              "      border: none;\n",
              "      border-radius: 50%;\n",
              "      cursor: pointer;\n",
              "      display: none;\n",
              "      fill: #1967D2;\n",
              "      height: 32px;\n",
              "      padding: 0 0 0 0;\n",
              "      width: 32px;\n",
              "    }\n",
              "\n",
              "    .colab-df-convert:hover {\n",
              "      background-color: #E2EBFA;\n",
              "      box-shadow: 0px 1px 2px rgba(60, 64, 67, 0.3), 0px 1px 3px 1px rgba(60, 64, 67, 0.15);\n",
              "      fill: #174EA6;\n",
              "    }\n",
              "\n",
              "    [theme=dark] .colab-df-convert {\n",
              "      background-color: #3B4455;\n",
              "      fill: #D2E3FC;\n",
              "    }\n",
              "\n",
              "    [theme=dark] .colab-df-convert:hover {\n",
              "      background-color: #434B5C;\n",
              "      box-shadow: 0px 1px 3px 1px rgba(0, 0, 0, 0.15);\n",
              "      filter: drop-shadow(0px 1px 2px rgba(0, 0, 0, 0.3));\n",
              "      fill: #FFFFFF;\n",
              "    }\n",
              "  </style>\n",
              "\n",
              "      <script>\n",
              "        const buttonEl =\n",
              "          document.querySelector('#df-ee6d5c3f-8ed9-4244-8d69-31b7e31a0658 button.colab-df-convert');\n",
              "        buttonEl.style.display =\n",
              "          google.colab.kernel.accessAllowed ? 'block' : 'none';\n",
              "\n",
              "        async function convertToInteractive(key) {\n",
              "          const element = document.querySelector('#df-ee6d5c3f-8ed9-4244-8d69-31b7e31a0658');\n",
              "          const dataTable =\n",
              "            await google.colab.kernel.invokeFunction('convertToInteractive',\n",
              "                                                     [key], {});\n",
              "          if (!dataTable) return;\n",
              "\n",
              "          const docLinkHtml = 'Like what you see? Visit the ' +\n",
              "            '<a target=\"_blank\" href=https://colab.research.google.com/notebooks/data_table.ipynb>data table notebook</a>'\n",
              "            + ' to learn more about interactive tables.';\n",
              "          element.innerHTML = '';\n",
              "          dataTable['output_type'] = 'display_data';\n",
              "          await google.colab.output.renderOutput(dataTable, element);\n",
              "          const docLink = document.createElement('div');\n",
              "          docLink.innerHTML = docLinkHtml;\n",
              "          element.appendChild(docLink);\n",
              "        }\n",
              "      </script>\n",
              "    </div>\n",
              "  </div>\n",
              "  "
            ]
          },
          "metadata": {},
          "execution_count": 53
        }
      ]
    },
    {
      "cell_type": "markdown",
      "metadata": {
        "id": "Qkl2gToBAj7a"
      },
      "source": [
        "### Performing Random Forest"
      ]
    },
    {
      "cell_type": "code",
      "execution_count": null,
      "metadata": {
        "id": "IusmRW46Aj7a"
      },
      "outputs": [],
      "source": [
        "from sklearn import metrics\n",
        "from sklearn.metrics import accuracy_score\n",
        "import matplotlib.pyplot as plt\n",
        "import numpy\n",
        "from sklearn.ensemble import RandomForestClassifier\n",
        "from sklearn.model_selection import train_test_split"
      ]
    },
    {
      "cell_type": "markdown",
      "metadata": {
        "id": "Vtzvw66kAj7a"
      },
      "source": [
        "Splitting data into training set and testing set."
      ]
    },
    {
      "cell_type": "code",
      "execution_count": null,
      "metadata": {
        "id": "WPs0iAvGAj7a"
      },
      "outputs": [],
      "source": [
        "X=data.drop(columns=[\"Room_Occupancy_Count\",\"Date\",\"Time\"])\n",
        "y=data[\"Room_Occupancy_Count\"]\n",
        "X_train, X_test, y_train, y_test = train_test_split(X, y, random_state=0)"
      ]
    },
    {
      "cell_type": "markdown",
      "metadata": {
        "id": "WnzOEhuBAj7b"
      },
      "source": [
        "Fitting the train data and predict the test label."
      ]
    },
    {
      "cell_type": "code",
      "execution_count": null,
      "metadata": {
        "id": "JBN3xtrYAj7b"
      },
      "outputs": [],
      "source": [
        "clf = RandomForestClassifier(max_depth=3, random_state=0,class_weight=\"balanced\")\n",
        "clf.fit(X_train, y_train)\n",
        "y_pred=clf.predict(X_test)"
      ]
    },
    {
      "cell_type": "markdown",
      "metadata": {
        "id": "IU-lKHzpCS5H"
      },
      "source": [
        "Using balanced weight becasue again we don't want our model to just guess 0 and still work well!"
      ]
    },
    {
      "cell_type": "markdown",
      "metadata": {
        "id": "5k40uuM0Aj7b"
      },
      "source": [
        "Accuracy score and confusion matrix."
      ]
    },
    {
      "cell_type": "code",
      "execution_count": null,
      "metadata": {
        "colab": {
          "base_uri": "https://localhost:8080/",
          "height": 296
        },
        "id": "_0IdFYhnAj7b",
        "outputId": "75097e8e-fb70-4319-d836-13e102fba89e"
      },
      "outputs": [
        {
          "output_type": "stream",
          "name": "stdout",
          "text": [
            "Accuracy: 0.9928938018160284\n"
          ]
        },
        {
          "output_type": "display_data",
          "data": {
            "text/plain": [
              "<Figure size 432x288 with 2 Axes>"
            ],
            "image/png": "[encoded data removed]"
          },
          "metadata": {
            "needs_background": "light"
          }
        }
      ],
      "source": [
        "print(\"Accuracy: \" + str(accuracy_score(y_test,y_pred)))\n",
        "confusion_matrix = metrics.confusion_matrix(y_test,y_pred)\n",
        "cm_display = metrics.ConfusionMatrixDisplay(confusion_matrix = confusion_matrix)\n",
        "cm_display.plot()\n",
        "plt.show()"
      ]
    },
    {
      "cell_type": "code",
      "source": [
        "X_standard=df.drop(columns=[\"Room_Occupancy_Count\",\"Date\",\"Time\"])\n",
        "y_standard=df[\"Room_Occupancy_Count\"]\n",
        "X_train_standard, X_test_standard, y_train_standard, y_test_standard = train_test_split(X_standard, y_standard, random_state=0)"
      ],
      "metadata": {
        "id": "VWVF9a7lGSK3"
      },
      "execution_count": null,
      "outputs": []
    },
    {
      "cell_type": "code",
      "source": [
        "clf_standard = RandomForestClassifier(max_depth=3, random_state=0,class_weight=\"balanced\")\n",
        "clf_standard.fit(X_train_standard, y_train_standard)\n",
        "y_pred_standard=clf_standard.predict(X_test_standard)\n",
        "print(\"Accuracy_standard: \" + str(accuracy_score(y_test_standard,y_pred_standard)))\n",
        "confusion_matrix = metrics.confusion_matrix(y_test_standard,y_pred_standard)\n",
        "cm_display = metrics.ConfusionMatrixDisplay(confusion_matrix = confusion_matrix)\n",
        "cm_display.plot()\n",
        "plt.show()"
      ],
      "metadata": {
        "colab": {
          "base_uri": "https://localhost:8080/",
          "height": 296
        },
        "id": "M_r1Gi4cHC2j",
        "outputId": "cbedcf52-8768-4b1d-f5af-b0a2f12dad89"
      },
      "execution_count": null,
      "outputs": [
        {
          "output_type": "stream",
          "name": "stdout",
          "text": [
            "Accuracy_standard: 0.9932885906040269\n"
          ]
        },
        {
          "output_type": "display_data",
          "data": {
            "text/plain": [
              "<Figure size 432x288 with 2 Axes>"
            ],
            "image/png": "[encoded data removed]"
          },
          "metadata": {
            "needs_background": "light"
          }
        }
      ]
    },
    {
      "cell_type": "markdown",
      "source": [
        "### Feature Selection"
      ],
      "metadata": {
        "id": "5bDeFvEJUmqJ"
      }
    },
    {
      "cell_type": "markdown",
      "source": [
        "  In order to determine the some of the important features, we create two thresholds of 0.005 and 0.002. Then, the feature are considered important if they are greater than the chosen threshold.\n",
        "\n",
        "  During the feature selection process of our Room Occupancy Estimation project, we first utilized Random Forest to identify the most relevant sensors for predicting occupancy. We initially used the “model_importances_ ”  from random forest to obtain a ranked list of importance scores for each feature, with the highest three scores belonging to light, sound, and CO2 slope features. However, further exploration of this value shows that these calculations might not be informative as these values have large standard deviations. The likely reason that directly using the model_importances won't work is that our data is continuous. Feature importances, which rely on the decrease of impurity might not work as well when our data has many unique values. To further explore the relevance of each feature, we used “permutation_importance” to assess the importance of each feature individually by randomly dropping features and measuring the impact on the model's accuracy. We then plotted a bar graph of the results shown below, which revealed that the light, sound, and CO2 slope features still had the highest importance scores but this time the standard deviation is much smaller and our result is more reliable.\n"
      ],
      "metadata": {
        "id": "pZPB5aCEXmkZ"
      }
    },
    {
      "cell_type": "code",
      "execution_count": null,
      "metadata": {
        "id": "GfJ1z4xWAj7c",
        "outputId": "3e42e3de-9f39-4e69-ae81-1aafe176a47d",
        "colab": {
          "base_uri": "https://localhost:8080/",
          "height": 297
        }
      },
      "outputs": [
        {
          "output_type": "display_data",
          "data": {
            "text/plain": [
              "<Figure size 432x288 with 1 Axes>"
            ],
            "image/png": "[encoded data removed]"
          },
          "metadata": {
            "needs_background": "light"
          }
        }
      ],
      "source": [
        "importances = clf.feature_importances_\n",
        "std = np.std([tree.feature_importances_ for tree in clf.estimators_], axis=0)\n",
        "forest_importances = pd.Series(clf.feature_importances_,index=X_train.columns )\n",
        "fig, ax = plt.subplots()\n",
        "forest_importances.plot.bar(yerr=std,ax=ax)\n",
        "ax.set_title(\"Feature importances using mean decrease in impurity\")\n",
        "ax.set_ylabel(\"Mean decrease in impurity\")\n",
        "fig.tight_layout()\n",
        "plt.show()"
      ]
    },
    {
      "cell_type": "markdown",
      "metadata": {
        "id": "ytW9E7w5Aj7b"
      },
      "source": [
        "  In order to find the most relevant sensors, we use feature_importances_ property that provides a ranked list of the importance scores for each feature used in the Random Forest model. The higher the score, the more important the feature is in making accurate predictions. The highest three score reported are 0.24196258, 0.13430008, and 0.13225442 that represent light, sound and CO2 slope feature respectively."
      ]
    },
    {
      "cell_type": "markdown",
      "metadata": {
        "id": "DurVlW_HCS5I"
      },
      "source": [
        "we realized that since our data is continuous, maybe just using the feature importances will not be the optimal solution."
      ]
    },
    {
      "cell_type": "code",
      "execution_count": null,
      "metadata": {
        "id": "F29oYOXACS5I"
      },
      "outputs": [],
      "source": [
        "from sklearn.inspection import permutation_importance\n",
        "result = permutation_importance(\n",
        "    clf, X_test, y_test, n_repeats=10, random_state=0, n_jobs=2\n",
        ")\n"
      ]
    },
    {
      "cell_type": "code",
      "execution_count": null,
      "metadata": {
        "id": "UG8AwoFbCS5I"
      },
      "outputs": [],
      "source": [
        "forest_importances = pd.Series(result.importances_mean,index=X_test.columns)"
      ]
    },
    {
      "cell_type": "markdown",
      "metadata": {
        "id": "Q0qTj05lAj7b"
      },
      "source": [
        "Now, we want to explore a little bit on how well we are doing, therefore we first try the simplist case, in which we just don't take the value of date, time into account but having all the other variables availble to use."
      ]
    },
    {
      "cell_type": "code",
      "execution_count": null,
      "metadata": {
        "id": "qhuyVHicCS5I",
        "colab": {
          "base_uri": "https://localhost:8080/",
          "height": 297
        },
        "outputId": "77f2d02d-fbde-4d86-af87-24955eda75fd"
      },
      "outputs": [
        {
          "output_type": "display_data",
          "data": {
            "text/plain": [
              "<Figure size 432x288 with 1 Axes>"
            ],
            "image/png": "[encoded data removed]"
          },
          "metadata": {
            "needs_background": "light"
          }
        }
      ],
      "source": [
        "fig, ax = plt.subplots()\n",
        "forest_importances.plot.bar(yerr=result.importances_std, ax=ax)\n",
        "ax.set_title(\"Feature importances using permutation on full model\")\n",
        "ax.set_ylabel(\"Mean accuracy decrease\")\n",
        "fig.tight_layout()\n",
        "plt.show()"
      ]
    },
    {
      "cell_type": "markdown",
      "metadata": {
        "id": "fndkncMlAj7c"
      },
      "source": [
        "  The highest three scores recorded are 0.24196258, 0.13430008, and 0.13225442, which correspond to the light, sound, and CO2 slope features, respectively. These results appear reasonable since light, sound, and CO2 slope are the most effective indicators of room occupancy. The light sensor can detect movements of individuals entering and leaving the room, enabling estimation of occupancy and monitoring of movement patterns. Sound sensors can capture sounds produced by people in the room, such as talking, walking, or other actions. By analyzing the frequency and intensity of these sounds, it is possible to determine the number of individuals in the room and their level of activity. CO2 slope sensors can identify fluctuations in the concentration of carbon dioxide in the atmosphere, which may indicate the presence of individuals breathing and exhaling. This data can be utilized to estimate occupancy and determine ventilation requirements."
      ]
    },
    {
      "cell_type": "code",
      "source": [
        "print(type(forest_importances))\n",
        "forest_importances_dict = forest_importances.to_dict()"
      ],
      "metadata": {
        "id": "cXIlbE0GYsMb",
        "colab": {
          "base_uri": "https://localhost:8080/"
        },
        "outputId": "355cf127-5e18-4e99-d998-0f9e02cb7789"
      },
      "execution_count": null,
      "outputs": [
        {
          "output_type": "stream",
          "name": "stdout",
          "text": [
            "<class 'pandas.core.series.Series'>\n"
          ]
        }
      ]
    },
    {
      "cell_type": "code",
      "source": [
        "thresholds = [0.005,0.002]\n",
        "\n",
        "important_features = []\n",
        "\n",
        "for threshold in thresholds:\n",
        "  current_important_features = []\n",
        "  for feature in forest_importances_dict:\n",
        "    if forest_importances_dict[feature] >= threshold:\n",
        "      current_important_features.append(feature)\n",
        "  important_features.append(current_important_features)\n",
        "print(important_features)\n",
        "\n"
      ],
      "metadata": {
        "id": "EVYuoOAWXfTD",
        "colab": {
          "base_uri": "https://localhost:8080/"
        },
        "outputId": "9f077766-0293-4ee4-cc89-543f794ce20f"
      },
      "execution_count": null,
      "outputs": [
        {
          "output_type": "stream",
          "name": "stdout",
          "text": [
            "[['S3_Temp', 'S1_Light', 'S2_Light', 'S3_Light', 'S5_CO2'], ['S2_Temp', 'S3_Temp', 'S1_Light', 'S2_Light', 'S3_Light', 'S5_CO2', 'S5_CO2_Slope']]\n"
          ]
        }
      ]
    },
    {
      "cell_type": "markdown",
      "source": [
        "  After generating a plot showing the importance of each feature, we wanted to select the most important ones to use in our algorithm. To determine which features to include, we set two thresholds of 0.010 and 0.002. If a feature had an importance score greater than the chosen threshold, it was considered important and included in the final feature list.\n",
        "Specifically, the first threshold resulted in five important features, namely 'S3_Temp', 'S1_Light', 'S2_Light', 'S3_Light', and 'S5_CO2'. The second threshold resulted in seven important features, which included all the features from the first threshold, along with 'S5_CO2_Slope', 'S2_Temp', and 'S3_Temp'. We wanted to find two accuracies of the algorithm that considers each of these feature lists separately, then choose the higher one. To do this, we used the code provided and trained two separate models with the two different feature lists obtained from the thresholding process.\n",
        "\n",
        "\n"
      ],
      "metadata": {
        "id": "0xDXPJWeDVwC"
      }
    },
    {
      "cell_type": "code",
      "source": [
        "data_without_label=data.drop(columns=[\"Room_Occupancy_Count\",\"Date\",\"Time\"])\n",
        "data_without_label.head()"
      ],
      "metadata": {
        "colab": {
          "base_uri": "https://localhost:8080/",
          "height": 334
        },
        "id": "nJ14srCfc1a9",
        "outputId": "5ba352e6-4717-43a9-917b-8f3b5dbbcd25"
      },
      "execution_count": null,
      "outputs": [
        {
          "output_type": "execute_result",
          "data": {
            "text/plain": [
              "   Time in Minutes  Time in Second  S1_Temp  S2_Temp  S3_Temp  S4_Temp  \\\n",
              "0              649           38981    24.94    24.75    24.56    25.38   \n",
              "1              650           39012    24.94    24.75    24.56    25.44   \n",
              "2              650           39042    25.00    24.75    24.50    25.44   \n",
              "3              651           39073    25.00    24.75    24.56    25.44   \n",
              "4              651           39104    25.00    24.75    24.56    25.44   \n",
              "\n",
              "   S1_Light  S2_Light  S3_Light  S4_Light  ...  S5_CO2_Slope  S6_PIR  S7_PIR  \\\n",
              "0       121        34        53        40  ...      0.769231       0       0   \n",
              "1       121        33        53        40  ...      0.646154       0       0   \n",
              "2       121        34        53        40  ...      0.519231       0       0   \n",
              "3       121        34        53        40  ...      0.388462       0       0   \n",
              "4       121        34        54        40  ...      0.253846       0       0   \n",
              "\n",
              "   one_hot_2017/12/22  one_hot_2017/12/23  one_hot_2017/12/24  \\\n",
              "0                   1                   0                   0   \n",
              "1                   1                   0                   0   \n",
              "2                   1                   0                   0   \n",
              "3                   1                   0                   0   \n",
              "4                   1                   0                   0   \n",
              "\n",
              "   one_hot_2017/12/25  one_hot_2017/12/26  one_hot_2018/01/10  \\\n",
              "0                   0                   0                   0   \n",
              "1                   0                   0                   0   \n",
              "2                   0                   0                   0   \n",
              "3                   0                   0                   0   \n",
              "4                   0                   0                   0   \n",
              "\n",
              "   one_hot_2018/01/11  \n",
              "0                   0  \n",
              "1                   0  \n",
              "2                   0  \n",
              "3                   0  \n",
              "4                   0  \n",
              "\n",
              "[5 rows x 25 columns]"
            ],
            "text/html": [
              "\n",
              "  <div id=\"df-38e0713e-28b1-41d2-b8ef-513bf3480043\">\n",
              "    <div class=\"colab-df-container\">\n",
              "      <div>\n",
              "<style scoped>\n",
              "    .dataframe tbody tr th:only-of-type {\n",
              "        vertical-align: middle;\n",
              "    }\n",
              "\n",
              "    .dataframe tbody tr th {\n",
              "        vertical-align: top;\n",
              "    }\n",
              "\n",
              "    .dataframe thead th {\n",
              "        text-align: right;\n",
              "    }\n",
              "</style>\n",
              "<table border=\"1\" class=\"dataframe\">\n",
              "  <thead>\n",
              "    <tr style=\"text-align: right;\">\n",
              "      <th></th>\n",
              "      <th>Time in Minutes</th>\n",
              "      <th>Time in Second</th>\n",
              "      <th>S1_Temp</th>\n",
              "      <th>S2_Temp</th>\n",
              "      <th>S3_Temp</th>\n",
              "      <th>S4_Temp</th>\n",
              "      <th>S1_Light</th>\n",
              "      <th>S2_Light</th>\n",
              "      <th>S3_Light</th>\n",
              "      <th>S4_Light</th>\n",
              "      <th>...</th>\n",
              "      <th>S5_CO2_Slope</th>\n",
              "      <th>S6_PIR</th>\n",
              "      <th>S7_PIR</th>\n",
              "      <th>one_hot_2017/12/22</th>\n",
              "      <th>one_hot_2017/12/23</th>\n",
              "      <th>one_hot_2017/12/24</th>\n",
              "      <th>one_hot_2017/12/25</th>\n",
              "      <th>one_hot_2017/12/26</th>\n",
              "      <th>one_hot_2018/01/10</th>\n",
              "      <th>one_hot_2018/01/11</th>\n",
              "    </tr>\n",
              "  </thead>\n",
              "  <tbody>\n",
              "    <tr>\n",
              "      <th>0</th>\n",
              "      <td>649</td>\n",
              "      <td>38981</td>\n",
              "      <td>24.94</td>\n",
              "      <td>24.75</td>\n",
              "      <td>24.56</td>\n",
              "      <td>25.38</td>\n",
              "      <td>121</td>\n",
              "      <td>34</td>\n",
              "      <td>53</td>\n",
              "      <td>40</td>\n",
              "      <td>...</td>\n",
              "      <td>0.769231</td>\n",
              "      <td>0</td>\n",
              "      <td>0</td>\n",
              "      <td>1</td>\n",
              "      <td>0</td>\n",
              "      <td>0</td>\n",
              "      <td>0</td>\n",
              "      <td>0</td>\n",
              "      <td>0</td>\n",
              "      <td>0</td>\n",
              "    </tr>\n",
              "    <tr>\n",
              "      <th>1</th>\n",
              "      <td>650</td>\n",
              "      <td>39012</td>\n",
              "      <td>24.94</td>\n",
              "      <td>24.75</td>\n",
              "      <td>24.56</td>\n",
              "      <td>25.44</td>\n",
              "      <td>121</td>\n",
              "      <td>33</td>\n",
              "      <td>53</td>\n",
              "      <td>40</td>\n",
              "      <td>...</td>\n",
              "      <td>0.646154</td>\n",
              "      <td>0</td>\n",
              "      <td>0</td>\n",
              "      <td>1</td>\n",
              "      <td>0</td>\n",
              "      <td>0</td>\n",
              "      <td>0</td>\n",
              "      <td>0</td>\n",
              "      <td>0</td>\n",
              "      <td>0</td>\n",
              "    </tr>\n",
              "    <tr>\n",
              "      <th>2</th>\n",
              "      <td>650</td>\n",
              "      <td>39042</td>\n",
              "      <td>25.00</td>\n",
              "      <td>24.75</td>\n",
              "      <td>24.50</td>\n",
              "      <td>25.44</td>\n",
              "      <td>121</td>\n",
              "      <td>34</td>\n",
              "      <td>53</td>\n",
              "      <td>40</td>\n",
              "      <td>...</td>\n",
              "      <td>0.519231</td>\n",
              "      <td>0</td>\n",
              "      <td>0</td>\n",
              "      <td>1</td>\n",
              "      <td>0</td>\n",
              "      <td>0</td>\n",
              "      <td>0</td>\n",
              "      <td>0</td>\n",
              "      <td>0</td>\n",
              "      <td>0</td>\n",
              "    </tr>\n",
              "    <tr>\n",
              "      <th>3</th>\n",
              "      <td>651</td>\n",
              "      <td>39073</td>\n",
              "      <td>25.00</td>\n",
              "      <td>24.75</td>\n",
              "      <td>24.56</td>\n",
              "      <td>25.44</td>\n",
              "      <td>121</td>\n",
              "      <td>34</td>\n",
              "      <td>53</td>\n",
              "      <td>40</td>\n",
              "      <td>...</td>\n",
              "      <td>0.388462</td>\n",
              "      <td>0</td>\n",
              "      <td>0</td>\n",
              "      <td>1</td>\n",
              "      <td>0</td>\n",
              "      <td>0</td>\n",
              "      <td>0</td>\n",
              "      <td>0</td>\n",
              "      <td>0</td>\n",
              "      <td>0</td>\n",
              "    </tr>\n",
              "    <tr>\n",
              "      <th>4</th>\n",
              "      <td>651</td>\n",
              "      <td>39104</td>\n",
              "      <td>25.00</td>\n",
              "      <td>24.75</td>\n",
              "      <td>24.56</td>\n",
              "      <td>25.44</td>\n",
              "      <td>121</td>\n",
              "      <td>34</td>\n",
              "      <td>54</td>\n",
              "      <td>40</td>\n",
              "      <td>...</td>\n",
              "      <td>0.253846</td>\n",
              "      <td>0</td>\n",
              "      <td>0</td>\n",
              "      <td>1</td>\n",
              "      <td>0</td>\n",
              "      <td>0</td>\n",
              "      <td>0</td>\n",
              "      <td>0</td>\n",
              "      <td>0</td>\n",
              "      <td>0</td>\n",
              "    </tr>\n",
              "  </tbody>\n",
              "</table>\n",
              "<p>5 rows × 25 columns</p>\n",
              "</div>\n",
              "      <button class=\"colab-df-convert\" onclick=\"convertToInteractive('df-38e0713e-28b1-41d2-b8ef-513bf3480043')\"\n",
              "              title=\"Convert this dataframe to an interactive table.\"\n",
              "              style=\"display:none;\">\n",
              "        \n",
              "  <svg xmlns=\"http://www.w3.org/2000/svg\" height=\"24px\"viewBox=\"0 0 24 24\"\n",
              "       width=\"24px\">\n",
              "    <path d=\"M0 0h24v24H0V0z\" fill=\"none\"/>\n",
              "    <path d=\"M18.56 5.44l.94 2.06.94-2.06 2.06-.94-2.06-.94-.94-2.06-.94 2.06-2.06.94zm-11 1L8.5 8.5l.94-2.06 2.06-.94-2.06-.94L8.5 2.5l-.94 2.06-2.06.94zm10 10l.94 2.06.94-2.06 2.06-.94-2.06-.94-.94-2.06-.94 2.06-2.06.94z\"/><path d=\"M17.41 7.96l-1.37-1.37c-.4-.4-.92-.59-1.43-.59-.52 0-1.04.2-1.43.59L10.3 9.45l-7.72 7.72c-.78.78-.78 2.05 0 2.83L4 21.41c.39.39.9.59 1.41.59.51 0 1.02-.2 1.41-.59l7.78-7.78 2.81-2.81c.8-.78.8-2.07 0-2.86zM5.41 20L4 18.59l7.72-7.72 1.47 1.35L5.41 20z\"/>\n",
              "  </svg>\n",
              "      </button>\n",
              "      \n",
              "  <style>\n",
              "    .colab-df-container {\n",
              "      display:flex;\n",
              "      flex-wrap:wrap;\n",
              "      gap: 12px;\n",
              "    }\n",
              "\n",
              "    .colab-df-convert {\n",
              "      background-color: #E8F0FE;\n",
              "      border: none;\n",
              "      border-radius: 50%;\n",
              "      cursor: pointer;\n",
              "      display: none;\n",
              "      fill: #1967D2;\n",
              "      height: 32px;\n",
              "      padding: 0 0 0 0;\n",
              "      width: 32px;\n",
              "    }\n",
              "\n",
              "    .colab-df-convert:hover {\n",
              "      background-color: #E2EBFA;\n",
              "      box-shadow: 0px 1px 2px rgba(60, 64, 67, 0.3), 0px 1px 3px 1px rgba(60, 64, 67, 0.15);\n",
              "      fill: #174EA6;\n",
              "    }\n",
              "\n",
              "    [theme=dark] .colab-df-convert {\n",
              "      background-color: #3B4455;\n",
              "      fill: #D2E3FC;\n",
              "    }\n",
              "\n",
              "    [theme=dark] .colab-df-convert:hover {\n",
              "      background-color: #434B5C;\n",
              "      box-shadow: 0px 1px 3px 1px rgba(0, 0, 0, 0.15);\n",
              "      filter: drop-shadow(0px 1px 2px rgba(0, 0, 0, 0.3));\n",
              "      fill: #FFFFFF;\n",
              "    }\n",
              "  </style>\n",
              "\n",
              "      <script>\n",
              "        const buttonEl =\n",
              "          document.querySelector('#df-38e0713e-28b1-41d2-b8ef-513bf3480043 button.colab-df-convert');\n",
              "        buttonEl.style.display =\n",
              "          google.colab.kernel.accessAllowed ? 'block' : 'none';\n",
              "\n",
              "        async function convertToInteractive(key) {\n",
              "          const element = document.querySelector('#df-38e0713e-28b1-41d2-b8ef-513bf3480043');\n",
              "          const dataTable =\n",
              "            await google.colab.kernel.invokeFunction('convertToInteractive',\n",
              "                                                     [key], {});\n",
              "          if (!dataTable) return;\n",
              "\n",
              "          const docLinkHtml = 'Like what you see? Visit the ' +\n",
              "            '<a target=\"_blank\" href=https://colab.research.google.com/notebooks/data_table.ipynb>data table notebook</a>'\n",
              "            + ' to learn more about interactive tables.';\n",
              "          element.innerHTML = '';\n",
              "          dataTable['output_type'] = 'display_data';\n",
              "          await google.colab.output.renderOutput(dataTable, element);\n",
              "          const docLink = document.createElement('div');\n",
              "          docLink.innerHTML = docLinkHtml;\n",
              "          element.appendChild(docLink);\n",
              "        }\n",
              "      </script>\n",
              "    </div>\n",
              "  </div>\n",
              "  "
            ]
          },
          "metadata": {},
          "execution_count": 54
        }
      ]
    },
    {
      "cell_type": "code",
      "source": [
        "\n",
        "X_005=data_without_label[important_features[0]]\n",
        "X_train_005, X_test_005, y_train_005, y_test_005 = train_test_split(X_005, y, random_state=0)\n",
        "\n",
        "# Fitting data\n",
        "clf_005 = RandomForestClassifier(max_depth=3, random_state=0,class_weight=\"balanced\")\n",
        "#clf_nodate = RandomForestClassifier(max_depth=3, random_state=0,)\n",
        "#added class weight argument so our model only guess 0.\n",
        "clf_005.fit(X_train_005, y_train_005)\n",
        "y_pred_005=clf_005.predict(X_test_005)\n",
        "\n",
        "# Accuracy and confusion matrix\n",
        "print(\"Accuracy\" + str(accuracy_score(y_test_005,y_pred_005)))\n",
        "confusion_matrix = metrics.confusion_matrix(y_test_005,y_pred_005)\n",
        "cm_display = metrics.ConfusionMatrixDisplay(confusion_matrix = confusion_matrix)\n",
        "cm_display.plot()\n",
        "plt.show()"
      ],
      "metadata": {
        "colab": {
          "base_uri": "https://localhost:8080/",
          "height": 296
        },
        "id": "PZgV-YmAcb9g",
        "outputId": "b1cf0529-ac08-4fc9-9182-d5dd34a7a22a"
      },
      "execution_count": null,
      "outputs": [
        {
          "output_type": "stream",
          "name": "stdout",
          "text": [
            "Accuracy0.9648637978681406\n"
          ]
        },
        {
          "output_type": "display_data",
          "data": {
            "text/plain": [
              "<Figure size 432x288 with 2 Axes>"
            ],
            "image/png": "[encoded data removed]"
          },
          "metadata": {
            "needs_background": "light"
          }
        }
      ]
    },
    {
      "cell_type": "code",
      "source": [
        "X_002=data_without_label[important_features[1]]\n",
        "X_train_002, X_test_002, y_train_002, y_test_002 = train_test_split(X_002, y, random_state=0)\n",
        "\n",
        "# Fitting data\n",
        "clf_002 = RandomForestClassifier(max_depth=3, random_state=0,class_weight=\"balanced\")\n",
        "#clf_nodate = RandomForestClassifier(max_depth=3, random_state=0,)\n",
        "#added class weight argument so our model only guess 0.\n",
        "clf_002.fit(X_train_002, y_train_002)\n",
        "y_pred_002=clf_002.predict(X_test_002)\n",
        "\n",
        "# Accuracy and confusion matrix\n",
        "print(\"Accuracy\" + str(accuracy_score(y_test_002,y_pred_002)))\n",
        "confusion_matrix = metrics.confusion_matrix(y_test_002,y_pred_002)\n",
        "cm_display = metrics.ConfusionMatrixDisplay(confusion_matrix = confusion_matrix)\n",
        "cm_display.plot()\n",
        "plt.show()"
      ],
      "metadata": {
        "colab": {
          "base_uri": "https://localhost:8080/",
          "height": 297
        },
        "id": "7mZ_j1mxiFz7",
        "outputId": "3de2588f-1cf2-44b8-beab-453c34e69ffc"
      },
      "execution_count": null,
      "outputs": [
        {
          "output_type": "stream",
          "name": "stdout",
          "text": [
            "Accuracy0.9790761942360837\n"
          ]
        },
        {
          "output_type": "display_data",
          "data": {
            "text/plain": [
              "<Figure size 432x288 with 2 Axes>"
            ],
            "image/png": "[encoded data removed]"
          },
          "metadata": {
            "needs_background": "light"
          }
        }
      ]
    },
    {
      "cell_type": "markdown",
      "source": [
        "The accuracy of the first model trained with the first feature list was found to be 0.9649, whereas the accuracy of the second model trained with the second feature list was found to be 0.9791, and the confusion matrices were plotted for both. Based on these results, we concluded that the second model with seven important features performed slightly better than the first model with five important features. Therefore, we selected the second model as our final model for predicting room occupancies."
      ],
      "metadata": {
        "id": "ZxPgvXHWEO_3"
      }
    },
    {
      "cell_type": "markdown",
      "source": [
        "### GridSearch Cross Validation\n",
        "\n",
        "In order to improve the performance of our model, we performed GridSearch cross-validation to identify the optimal hyperparameters for the Random Forest Classifier. This process involved systematically trying different combinations of hyperparameters to ensure that the model was not overly sensitive to a particular choice and to prevent overfitting. The hyperparameters we tuned were the maximum depth of the tree, minimum samples split, criterion, and class weight. We tested 10 different values for maximum depth, 7 for minimum sample split, and 2 for criterion and class weight, for a total of 280 different combinations.\n",
        "\n",
        "After running GridSearch cross-validation with 5-fold cross-validation, we found that the best hyperparameters for our model were a maximum depth of 15, minimum samples split of 2, and a criterion of entropy, with balanced class weights. Using these hyperparameters, we achieved an accuracy of 0.9964 on the test set, indicating that the model was able to accurately classify the plant health based on the sensor data.\n",
        "\n",
        "Comparing this to our original model, which included one-hot encoding for the date and continuous time, we found that the updated model with important features selected had a higher accuracy score, yet required fewer features. Using only the important features of S2_Temp, S3_Temp, S1_Light, S2_Light, S3_Light, S5_CO2, and S5_CO2_Slope, the updated model outperformed the original model with an accuracy of 0.9964, compared to 0.9929. This suggests that selecting important features can lead to better model performance and avoid overfitting.\n",
        "\n",
        "\n"
      ],
      "metadata": {
        "id": "qiGO4No3pWkk"
      }
    },
    {
      "cell_type": "code",
      "source": [
        "from sklearn.model_selection import GridSearchCV"
      ],
      "metadata": {
        "id": "z3i1OGc4mpB0"
      },
      "execution_count": null,
      "outputs": []
    },
    {
      "cell_type": "code",
      "source": [
        "hyperparameters = {\n",
        "    'max_depth': [2, 3, 4, 5, 7, 10, 13, 15, 18, 20], \n",
        "    'min_samples_split': [2, 5, 10, 20, 50, 100, 200],\n",
        "    'criterion': ['gini', 'entropy'],\n",
        "    'class_weight': ['balanced',None]\n",
        "}"
      ],
      "metadata": {
        "id": "ilYJGN7KlbGP"
      },
      "execution_count": null,
      "outputs": []
    },
    {
      "cell_type": "code",
      "source": [
        "searcher = GridSearchCV(RandomForestClassifier(), hyperparameters, cv=5)\n",
        "searcher.fit(X_train_002, y_train_002)\n"
      ],
      "metadata": {
        "colab": {
          "base_uri": "https://localhost:8080/",
          "height": 118
        },
        "id": "G911pp4gmS_X",
        "outputId": "8fc67651-b986-4f7e-836c-f63ebc10ff13"
      },
      "execution_count": null,
      "outputs": [
        {
          "output_type": "execute_result",
          "data": {
            "text/plain": [
              "GridSearchCV(cv=5, estimator=RandomForestClassifier(),\n",
              "             param_grid={'class_weight': ['balanced', None],\n",
              "                         'criterion': ['gini', 'entropy'],\n",
              "                         'max_depth': [2, 3, 4, 5, 7, 10, 13, 15, 18, 20],\n",
              "                         'min_samples_split': [2, 5, 10, 20, 50, 100, 200]})"
            ],
            "text/html": [
              "<style>#sk-container-id-1 {color: black;background-color: white;}#sk-container-id-1 pre{padding: 0;}#sk-container-id-1 div.sk-toggleable {background-color: white;}#sk-container-id-1 label.sk-toggleable__label {cursor: pointer;display: block;width: 100%;margin-bottom: 0;padding: 0.3em;box-sizing: border-box;text-align: center;}#sk-container-id-1 label.sk-toggleable__label-arrow:before {content: \"▸\";float: left;margin-right: 0.25em;color: #696969;}#sk-container-id-1 label.sk-toggleable__label-arrow:hover:before {color: black;}#sk-container-id-1 div.sk-estimator:hover label.sk-toggleable__label-arrow:before {color: black;}#sk-container-id-1 div.sk-toggleable__content {max-height: 0;max-width: 0;overflow: hidden;text-align: left;background-color: #f0f8ff;}#sk-container-id-1 div.sk-toggleable__content pre {margin: 0.2em;color: black;border-radius: 0.25em;background-color: #f0f8ff;}#sk-container-id-1 input.sk-toggleable__control:checked~div.sk-toggleable__content {max-height: 200px;max-width: 100%;overflow: auto;}#sk-container-id-1 input.sk-toggleable__control:checked~label.sk-toggleable__label-arrow:before {content: \"▾\";}#sk-container-id-1 div.sk-estimator input.sk-toggleable__control:checked~label.sk-toggleable__label {background-color: #d4ebff;}#sk-container-id-1 div.sk-label input.sk-toggleable__control:checked~label.sk-toggleable__label {background-color: #d4ebff;}#sk-container-id-1 input.sk-hidden--visually {border: 0;clip: rect(1px 1px 1px 1px);clip: rect(1px, 1px, 1px, 1px);height: 1px;margin: -1px;overflow: hidden;padding: 0;position: absolute;width: 1px;}#sk-container-id-1 div.sk-estimator {font-family: monospace;background-color: #f0f8ff;border: 1px dotted black;border-radius: 0.25em;box-sizing: border-box;margin-bottom: 0.5em;}#sk-container-id-1 div.sk-estimator:hover {background-color: #d4ebff;}#sk-container-id-1 div.sk-parallel-item::after {content: \"\";width: 100%;border-bottom: 1px solid gray;flex-grow: 1;}#sk-container-id-1 div.sk-label:hover label.sk-toggleable__label {background-color: #d4ebff;}#sk-container-id-1 div.sk-serial::before {content: \"\";position: absolute;border-left: 1px solid gray;box-sizing: border-box;top: 0;bottom: 0;left: 50%;z-index: 0;}#sk-container-id-1 div.sk-serial {display: flex;flex-direction: column;align-items: center;background-color: white;padding-right: 0.2em;padding-left: 0.2em;position: relative;}#sk-container-id-1 div.sk-item {position: relative;z-index: 1;}#sk-container-id-1 div.sk-parallel {display: flex;align-items: stretch;justify-content: center;background-color: white;position: relative;}#sk-container-id-1 div.sk-item::before, #sk-container-id-1 div.sk-parallel-item::before {content: \"\";position: absolute;border-left: 1px solid gray;box-sizing: border-box;top: 0;bottom: 0;left: 50%;z-index: -1;}#sk-container-id-1 div.sk-parallel-item {display: flex;flex-direction: column;z-index: 1;position: relative;background-color: white;}#sk-container-id-1 div.sk-parallel-item:first-child::after {align-self: flex-end;width: 50%;}#sk-container-id-1 div.sk-parallel-item:last-child::after {align-self: flex-start;width: 50%;}#sk-container-id-1 div.sk-parallel-item:only-child::after {width: 0;}#sk-container-id-1 div.sk-dashed-wrapped {border: 1px dashed gray;margin: 0 0.4em 0.5em 0.4em;box-sizing: border-box;padding-bottom: 0.4em;background-color: white;}#sk-container-id-1 div.sk-label label {font-family: monospace;font-weight: bold;display: inline-block;line-height: 1.2em;}#sk-container-id-1 div.sk-label-container {text-align: center;}#sk-container-id-1 div.sk-container {/* jupyter's `normalize.less` sets `[hidden] { display: none; }` but bootstrap.min.css set `[hidden] { display: none !important; }` so we also need the `!important` here to be able to override the default hidden behavior on the sphinx rendered scikit-learn.org. See: https://github.com/scikit-learn/scikit-learn/issues/21755 */display: inline-block !important;position: relative;}#sk-container-id-1 div.sk-text-repr-fallback {display: none;}</style><div id=\"sk-container-id-1\" class=\"sk-top-container\"><div class=\"sk-text-repr-fallback\"><pre>GridSearchCV(cv=5, estimator=RandomForestClassifier(),\n",
              "             param_grid={&#x27;class_weight&#x27;: [&#x27;balanced&#x27;, None],\n",
              "                         &#x27;criterion&#x27;: [&#x27;gini&#x27;, &#x27;entropy&#x27;],\n",
              "                         &#x27;max_depth&#x27;: [2, 3, 4, 5, 7, 10, 13, 15, 18, 20],\n",
              "                         &#x27;min_samples_split&#x27;: [2, 5, 10, 20, 50, 100, 200]})</pre><b>In a Jupyter environment, please rerun this cell to show the HTML representation or trust the notebook. <br />On GitHub, the HTML representation is unable to render, please try loading this page with nbviewer.org.</b></div><div class=\"sk-container\" hidden><div class=\"sk-item sk-dashed-wrapped\"><div class=\"sk-label-container\"><div class=\"sk-label sk-toggleable\"><input class=\"sk-toggleable__control sk-hidden--visually\" id=\"sk-estimator-id-1\" type=\"checkbox\" ><label for=\"sk-estimator-id-1\" class=\"sk-toggleable__label sk-toggleable__label-arrow\">GridSearchCV</label><div class=\"sk-toggleable__content\"><pre>GridSearchCV(cv=5, estimator=RandomForestClassifier(),\n",
              "             param_grid={&#x27;class_weight&#x27;: [&#x27;balanced&#x27;, None],\n",
              "                         &#x27;criterion&#x27;: [&#x27;gini&#x27;, &#x27;entropy&#x27;],\n",
              "                         &#x27;max_depth&#x27;: [2, 3, 4, 5, 7, 10, 13, 15, 18, 20],\n",
              "                         &#x27;min_samples_split&#x27;: [2, 5, 10, 20, 50, 100, 200]})</pre></div></div></div><div class=\"sk-parallel\"><div class=\"sk-parallel-item\"><div class=\"sk-item\"><div class=\"sk-label-container\"><div class=\"sk-label sk-toggleable\"><input class=\"sk-toggleable__control sk-hidden--visually\" id=\"sk-estimator-id-2\" type=\"checkbox\" ><label for=\"sk-estimator-id-2\" class=\"sk-toggleable__label sk-toggleable__label-arrow\">estimator: RandomForestClassifier</label><div class=\"sk-toggleable__content\"><pre>RandomForestClassifier()</pre></div></div></div><div class=\"sk-serial\"><div class=\"sk-item\"><div class=\"sk-estimator sk-toggleable\"><input class=\"sk-toggleable__control sk-hidden--visually\" id=\"sk-estimator-id-3\" type=\"checkbox\" ><label for=\"sk-estimator-id-3\" class=\"sk-toggleable__label sk-toggleable__label-arrow\">RandomForestClassifier</label><div class=\"sk-toggleable__content\"><pre>RandomForestClassifier()</pre></div></div></div></div></div></div></div></div></div></div>"
            ]
          },
          "metadata": {},
          "execution_count": 23
        }
      ]
    },
    {
      "cell_type": "code",
      "source": [
        "searcher.best_params_"
      ],
      "metadata": {
        "colab": {
          "base_uri": "https://localhost:8080/"
        },
        "id": "5VOdNde3oKGj",
        "outputId": "ac729935-66b4-410e-9901-686ca7836c58"
      },
      "execution_count": null,
      "outputs": [
        {
          "output_type": "execute_result",
          "data": {
            "text/plain": [
              "{'class_weight': 'balanced',\n",
              " 'criterion': 'entropy',\n",
              " 'max_depth': 15,\n",
              " 'min_samples_split': 2}"
            ]
          },
          "metadata": {},
          "execution_count": 24
        }
      ]
    },
    {
      "cell_type": "code",
      "source": [
        "pred = searcher.predict(X_test_002)\n",
        "print(\"Accuracy_cv \" + str(accuracy_score(y_test_002,pred)))\n",
        "confusion_matrix = metrics.confusion_matrix(y_test_002,pred)\n",
        "cm_display = metrics.ConfusionMatrixDisplay(confusion_matrix = confusion_matrix)\n",
        "cm_display.plot()\n",
        "plt.show()"
      ],
      "metadata": {
        "colab": {
          "base_uri": "https://localhost:8080/",
          "height": 296
        },
        "id": "baYdQC-loPHe",
        "outputId": "88cee023-b00a-4bff-9d23-e8fb7f0cb0df"
      },
      "execution_count": null,
      "outputs": [
        {
          "output_type": "stream",
          "name": "stdout",
          "text": [
            "Accuracy_cv 0.9964469009080142\n"
          ]
        },
        {
          "output_type": "display_data",
          "data": {
            "text/plain": [
              "<Figure size 432x288 with 2 Axes>"
            ],
            "image/png": "[encoded data removed]"
          },
          "metadata": {
            "needs_background": "light"
          }
        }
      ]
    },
    {
      "cell_type": "markdown",
      "source": [
        "Compare to the our first original model that includes one-hot encoding date and continuous time, we yield the higher accuracy score (as 0.9964 > 0.9929) with S2_Temp, S3_Temp, S1_Light, S2_Light, S3_Light, S5_CO2 and S5_CO2_Slope as important features."
      ],
      "metadata": {
        "id": "_auVGXhr6IoH"
      }
    },
    {
      "cell_type": "markdown",
      "source": [
        "# Discussion"
      ],
      "metadata": {
        "id": "6Mho-Thm7n6U"
      }
    },
    {
      "cell_type": "markdown",
      "source": [
        "### Interpreting the result\n",
        "1. Before running the dataset through the model, we utilize one-hot encoding on the 'Date' variable with the hope that the algorithm can identify patterns and correlations between the date and the occupancy count. Additionally, we convert the 'time' variable into a continuous variable.This enables us to make informed decisions regarding which features are essential by properly integrating date and time into the algorithm. Yet the result suggest that the addition of transformed features even decreases the prediction accuracy. This suggest the importance of feature selection, and using appropirate numbers of features when doing machine learning as adding more features, in this case not only addes computational cost but also doesnt result in a increase in performance.\n",
        "\n",
        "2. Understanding the importance of feature selection.We aim to identify the most significant subset of features by setting a threshold of 0.005 and 0.002 based on the mean accuracy decrease.When using a 0.005 threshold, we obtain an accuracy of 0.9648 using 5 important features. On the other hand, when using a 0.002 threshold, we obtain an accuracy of 0.9790 by selecting 7 important features. This suggests that even though all these selected features are important, when we don't have enough features, the accuracy is still subject to decrease. Moreover the graph also suggest that amoungts all light sensors, S2 has the highest importance score, which implies that the poistioning of light sensors are very important. Feature selection also help us realize that the motion sensor is not that useful in predicitng room occupancy.\n",
        "\n",
        "\n",
        "\n",
        "3. After the feature selection, we perform Grid search cross-validation involving creating a grid of possible hyperparameter values and then training the model on each combination of hyperparameters. After using GridSearch we find out that as when adujust appropritate hyperparamters, we obtain the accuracy of 0.9964 which out performes the origianl data. This shows that the extensive grid search, even though at the cost of sacrifising time, is very capable of increasing accuracy of a model. Things need to be take care: this grid search using the cross validation find the best combination of parameters to avoid overfitting,but this does not gurantee each individual hyperparameter is in iteself the optimal one.\n"
      ],
      "metadata": {
        "id": "MzwydU8w7qts"
      }
    },
    {
      "cell_type": "markdown",
      "source": [
        "### Limitations\n",
        "\n",
        "In the current work, we acknowledge a few limitations that may affect the validity and generalizability of our findings. One potential issue is the limited size of our dataset, which consisted of only four days of samples. More data could potentially change the nature of the problem and provide more insights into the relationship between environmental factors and room occupancy value. Another potential limitation is the fact that our dataset was collected from a single room, which may not be representative of other room environments. Therefore, our findings may not be applicable to other rooms with different environmental conditions or ventilation systems. Future studies could benefit from a larger and more diverse dataset to ensure greater generalizability of the findings.\n",
        "\n",
        "Furthermore, CO2 concentration is an important environmental variable. However, in some cases, the CO2 concentration measurements can be biased due to the presence of plants in the room. Plants absorb CO2 during photosynthesis, which can lead to a decrease in the measured CO2 concentration. Therefore, it is important to consider the potential presence of plants when interpreting CO2 measurements.\n",
        "\n",
        "Additionally, we used a specific set of hyperparameters for our machine-learning models based on the available computing resources and time constraints. It is possible that exploring more hyperparameters could result in higher accuracy scores or different feature importance rankings. Future studies could explore a wider range of hyperparameters or use more advanced techniques such as Bayesian optimization to better identify the optimal hyperparameters for the models.\n",
        "\n",
        "Despite these limitations, we believe that our study contributes to the understanding of the relationship between environmental factors and room occupancy levels in classrooms. We hope that our findings can inform future research and practical interventions to improve indoor air quality in educational settings.\n"
      ],
      "metadata": {
        "id": "zSbGx_OLMlFD"
      }
    },
    {
      "cell_type": "markdown",
      "metadata": {
        "id": "p8iHc4BPAj7d"
      },
      "source": [
        "### Ethics & Privacy"
      ]
    },
    {
      "cell_type": "markdown",
      "metadata": {
        "id": "yeyHOI89Aj7d"
      },
      "source": [
        "One ethical problem it may raise is that it is the case the people who don’t move will highly likely be ignored by the motion detector. For example, a disabled person who doesn’t move will have low motion data, and it is easy for us to misclassify it as a room has no people, but in fact, they are classified as real people. This may seem offensive to them.\n",
        "\n",
        "\n",
        "Additionally, after our model is trained well and has low test error and generation error, our model may be misused by a person who illegally wants to pry on others, since some people may don’t want others to know if they appear in a room, and most pries are illegal.\n",
        "\n",
        "\n",
        "Lastly, we have to think about security issues: when bad thieves use our model to detect how many people are there in an apartment, it may give them ideas about when to come in. In other words, if our model has predicted that none of the people in the room, this may provide opportunities for illegal actions such as theft"
      ]
    },
    {
      "cell_type": "markdown",
      "source": [
        "### Conclusion\n",
        "\n",
        "Our study shows that a Random Forest classification model can accurately predict the number of people in a room based on sensor measurements. Furthermore, our model requires fewer features compared to the benchmark models, yet achieves better performance. This suggests that we don't need to use a lot of sensors for the room, resulting in cost savings while maintaining high accuracy. In the context of other work in this field, our study provides evidence for the effectiveness of Random Forest models in occupancy detection and emphasizes the importance of feature selection in achieving accurate predictions. Future work could explore the use of other machine learning algorithms and feature engineering techniques to further improve the accuracy and efficiency of occupancy detection systems.\n",
        "\n",
        "\n"
      ],
      "metadata": {
        "id": "lloUh0weM2Rf"
      }
    },
    {
      "cell_type": "markdown",
      "metadata": {
        "id": "-BTzFrrmAj7d"
      },
      "source": [
        "# Team Expectations "
      ]
    },
    {
      "cell_type": "markdown",
      "metadata": {
        "id": "0ONRJtzLAj7d"
      },
      "source": [
        "* As a team, its is important to have regular team meetings to discuss progress, challenges, and updates. This provides an opportunity for team members to share their thoughts and ideas and provide feedback.\n",
        "* We also realize that there may be conflicts (for instance, some want to use model A and some want to use model B instead, and both come up with concise and logical reasons). In this case, we will ask for advice from the professor and TAs to make sure that all of us are in the good track. For difficulty, we can do the same thing: actively participate in the office hour and lectures to give us the opportunity to overcome the difficulties.\n",
        "* When making the decision, we will do a plural mode of the vote, and the same for setting goals and schedule, Regular check-ins can help ensure that everyone is on track and adjustments can be made as soon as possible.\n",
        "* Each team member should have a clear understanding of their responsibilities and workload. It's important to set each individual the same amount of time and work to make sure that we are going to finish on time, and starting early is important for us. "
      ]
    },
    {
      "cell_type": "markdown",
      "metadata": {
        "id": "_qFY05BMAj7d"
      },
      "source": [
        "# Project Timeline Proposal"
      ]
    },
    {
      "cell_type": "markdown",
      "metadata": {
        "id": "VxEG61EkAj7d"
      },
      "source": [
        "| Meeting Date  | Meeting Time| Task |\n",
        "|---|---|---|\n",
        "| 2/18  | 7 PM  | Group member introudction and Project kickoff |\n",
        "| 2/20  | 7 PM  | Discuss project goals and divide tasks to each team members, Research on potential topics and select useful datasets, Review and finalize the selection |\n",
        "| 2/22  | Morning  | Project Proposal Submission Deadline |\n",
        "| 2/29  | 7 PM  | Discuss and choose appropriate and efficienty ML models, start building and training the selected ML models, Review progress and look for any issues appearing|\n",
        "| 3/7  | 7 PM  | Checkpoint Write-up: Preliminary results including feature detection performance, learning or validation curves for model, etc. |\n",
        "| 3/8  | Morning  | Checkpoint Submission Deadline |\n",
        "| 3/15  | 7 PM  | Continue building and training ML models, Evaluate model performance and refine as needed, Prepare project presentation and finalize code |\n",
        "| 3/22  | Before 11:59 PM | Final Project Submission Deadline, and Team Evaluation Survey  |"
      ]
    },
    {
      "cell_type": "markdown",
      "metadata": {
        "id": "zdw8X935Aj7d"
      },
      "source": [
        "# Footnotes\n",
        "<a name=\"lorenznote\"></a>1.[^](#lorenz): Wang, Wei, et al. \"Occupancy prediction through machine learning and data fusion of environmental sensing and Wi-Fi sensing in buildings.\" Energy and Buildings, vol. 177, 2018, pp. 14-26, doi: 10.1016/j.enbuild.2018.07.003.<br> \n",
        "<a name=\"admonishnote\"></a>2.[^](#admonish): Singh, Adarsh Pal. \"Machine Learning for IoT Applications: Sensor Data Analytics and Data Reduction Techniques.\" IIIT/TH/2020/64, advisor: Sachin Chaudhari, 30 June 2020.<br>\n",
        "<a name=\"admonishnote\"></a>3.[^](#admonish): Singh, A. P., Jain, V., Chaudhari, S., Kraemer, F. A., Werner, S., & Garg, V. (2018). Machine learning-based occupancy estimation using multivariate sensor nodes. In 2018 IEEE Globecom Workshops (GC Wkshps) (pp. 1-6). IEEE..<br>"
      ]
    }
  ],
  "metadata": {
    "colab": {
      "provenance": []
    },
    "kernelspec": {
      "display_name": "Python 3 (ipykernel)",
      "language": "python",
      "name": "python3"
    },
    "language_info": {
      "codemirror_mode": {
        "name": "ipython",
        "version": 3
      },
      "file_extension": ".py",
      "mimetype": "text/x-python",
      "name": "python",
      "nbconvert_exporter": "python",
      "pygments_lexer": "ipython3",
      "version": "3.9.13"
    },
    "vscode": {
      "interpreter": {
        "hash": "aee8b7b246df8f9039afb4144a1f6fd8d2ca17a180786b69acc140d282b71a49"
      }
    }
  },
  "nbformat": 4,
  "nbformat_minor": 0
}
